{
 "cells": [
  {
   "cell_type": "markdown",
   "id": "54cb8c6c",
   "metadata": {},
   "source": [
    "# FORMULA 1 LENOVO CHINESE GRAND PRIX 2024"
   ]
  },
  {
   "cell_type": "markdown",
   "id": "484544d6",
   "metadata": {},
   "source": [
    "The Chinese Grand Prix (Chinese: 中国大奖赛; pinyin: Zhōngguó Dàjiǎngsài) is a round of the Formula One World Championship. The event was held every year from 2004 until 2019 and is contracted to be held until 2025.[1] The event was contracted to take place from 2020 to 2023, but was cancelled each of those years as a consequence of the COVID-19 pandemic in China.\n",
    "\n",
    "It is currently held at the Shanghai International Circuit, Jiading, Shanghai. Designed by Hermann Tilke and opened in 2004, the US240 million Shanghai course was the most expensive Formula One circuit facility[2] until the $6 billion Abu Dhabi course opened five years later.[3] The 5.451 km (3.387 mi) track features one of the trickiest corner combinations on the Formula One calendar: Turn 1 and 2, a demanding 270-degree, right-handed corner combination whose radius decreases as the corner progresses. Source: Wikipedia"
   ]
  },
  {
   "cell_type": "code",
   "execution_count": null,
   "id": "8cc45e8b",
   "metadata": {},
   "outputs": [],
   "source": [
    "from urllib.request import urlopen\n",
    "import json\n",
    "import pandas as pd\n",
    "import numpy as np\n",
    "from matplotlib import pyplot as plt\n",
    "import seaborn as sns"
   ]
  },
  {
   "cell_type": "markdown",
   "id": "0549ef3d",
   "metadata": {},
   "source": [
    "First of all it is neccesary to obtain all the data of the 2024 sessions in order to obtain some data as session_key,country_key,country_code and circuit_key"
   ]
  },
  {
   "cell_type": "code",
   "execution_count": null,
   "id": "3ab986a8",
   "metadata": {},
   "outputs": [],
   "source": [
    "response = urlopen('https://api.openf1.org/v1/sessions?year=2024&&country_code=CHN')\n",
    "data = json.loads(response.read().decode('utf-8'))\n",
    "calendar = pd.DataFrame(data)\n",
    "calendar"
   ]
  },
  {
   "cell_type": "markdown",
   "id": "0c15a832",
   "metadata": {},
   "source": [
    "## Setup\n",
    "It will be saved those attributes aforementioned."
   ]
  },
  {
   "cell_type": "code",
   "execution_count": null,
   "id": "5b5ae379",
   "metadata": {},
   "outputs": [],
   "source": [
    "country_key='country_key=53'\n",
    "country_code=\"country_code='CHN'\"\n",
    "circuit_key='circuit_key=49'\n",
    "year = 'year=2024'"
   ]
  },
  {
   "cell_type": "markdown",
   "id": "603629ba",
   "metadata": {},
   "source": [
    "## Free Practice 1"
   ]
  },
  {
   "cell_type": "markdown",
   "id": "32030611",
   "metadata": {},
   "source": [
    "### Laps"
   ]
  },
  {
   "cell_type": "code",
   "execution_count": null,
   "id": "cffa56d4",
   "metadata": {},
   "outputs": [],
   "source": [
    "url = 'https://api.openf1.org/v1/laps?'\n",
    "session_key='session_key=9663'\n",
    "urltotal = url+session_key\n",
    "\n",
    "response = urlopen(urltotal)\n",
    "data = json.loads(response.read().decode('utf-8'))\n",
    "practice1 = pd.DataFrame(data)\n",
    "practice1"
   ]
  },
  {
   "cell_type": "markdown",
   "id": "2ae82e81",
   "metadata": {},
   "source": [
    "### Stints"
   ]
  },
  {
   "cell_type": "code",
   "execution_count": null,
   "id": "7f05ec80",
   "metadata": {},
   "outputs": [],
   "source": [
    "#Stints\n",
    "url = 'https://api.openf1.org/v1/stints?'\n",
    "\n",
    "urltotal = url+session_key\n",
    "\n",
    "response = urlopen(urltotal)\n",
    "data = json.loads(response.read().decode('utf-8'))\n",
    "stintInformation = pd.DataFrame(data)\n",
    "stintInformation"
   ]
  },
  {
   "cell_type": "markdown",
   "id": "f20286df",
   "metadata": {},
   "source": [
    "### Drivers"
   ]
  },
  {
   "cell_type": "code",
   "execution_count": null,
   "id": "c8a279d1",
   "metadata": {},
   "outputs": [],
   "source": [
    "# Name of the drivers\n",
    "url = 'https://api.openf1.org/v1/drivers?'\n",
    "# In this case, due to Open URL does not refresh well the feature drivers, I will catch Practice 1 drivers as a reference.\n",
    "session_key = 'session_key=9472'\n",
    "urltotal = url+session_key\n",
    "\n",
    "response = urlopen(urltotal)\n",
    "drivers = json.loads(response.read().decode('utf-8'))\n",
    "drivers = pd.DataFrame(drivers)\n",
    "# Restore the session key\n",
    "session_key='session_key=9663'\n",
    "drivers"
   ]
  },
  {
   "cell_type": "markdown",
   "id": "dcd877de",
   "metadata": {},
   "source": [
    "### Merge tables"
   ]
  },
  {
   "cell_type": "code",
   "execution_count": null,
   "id": "fda8c8ef",
   "metadata": {},
   "outputs": [],
   "source": [
    "stintsDataFrame = pd.DataFrame()\n",
    "for index,row in stintInformation.iterrows():\n",
    "    number_driver = row.driver_number\n",
    "    acronym_driver = drivers.query('driver_number == @number_driver').name_acronym.to_string(index=False)\n",
    "    full_name = drivers.query('driver_number == @number_driver').full_name.to_string(index=False)\n",
    "    team_name = drivers.query('driver_number == @number_driver').team_name.to_string(index=False)\n",
    "    if row.lap_start != row.lap_end:\n",
    "        contador = row.lap_start\n",
    "        while contador <=row.lap_end :\n",
    "            new_row = {'driver_number':row.driver_number,'compound':row.compound,'lap_number':contador,'name_acronym':acronym_driver,'full_name':full_name,'team_name':team_name}\n",
    "            stintsDataFrame = pd.concat([stintsDataFrame, pd.DataFrame([new_row])], ignore_index=True)\n",
    "            contador+=1\n",
    "    else:\n",
    "    \n",
    "        new_row = {'driver_number':row.driver_number,'compound':row.compound,'lap_number':row.lap_start,'name_acronym':acronym_driver,'full_name':full_name,'team_name':team_name}\n",
    "        stintsDataFrame =pd.concat([stintsDataFrame, pd.DataFrame([new_row])], ignore_index=True)"
   ]
  },
  {
   "cell_type": "code",
   "execution_count": null,
   "id": "25554402",
   "metadata": {},
   "outputs": [],
   "source": [
    "jointables = pd.merge(practice1,stintsDataFrame,on=['lap_number','driver_number'])\n",
    "jointables"
   ]
  },
  {
   "cell_type": "markdown",
   "id": "5f5d5d45",
   "metadata": {},
   "source": [
    "### Data Tyres"
   ]
  },
  {
   "cell_type": "code",
   "execution_count": null,
   "id": "4753cf42",
   "metadata": {},
   "outputs": [],
   "source": [
    "def define_colour(compound):\n",
    "    if compound == \"SOFT\":\n",
    "        colour = \"red\"\n",
    "    elif compound == \"MEDIUM\":\n",
    "        colour = \"yellow\"\n",
    "    elif compound == \"HARD\":\n",
    "        colour = \"grey\"\n",
    "    elif compound == \"INTERMEDIATE\":\n",
    "        colour = \"green\"\n",
    "    else:\n",
    "        colour = \"blue\"\n",
    "    return colour"
   ]
  },
  {
   "cell_type": "code",
   "execution_count": null,
   "id": "3b6984d1",
   "metadata": {},
   "outputs": [],
   "source": [
    "def show_plot(arrayDataframes,colour):\n",
    "    figure, axis = plt.subplots(len(arrayDataframes),figsize=(15,85))\n",
    "    #plt.xlim(92, 96)\n",
    "    i=0\n",
    "    for arr in arrayDataframes:\n",
    "        arr.reset_index(drop=True, inplace=True)\n",
    "        axis[i].plot( arr.lap_duration,marker =\"o\",color=colour,label = str(arr.full_name[0]) )\n",
    "        axis[i].set_xlabel(\"Lap time\")\n",
    "        axis[i].set_ylabel(\"Lap Time Seconds\")\n",
    "        axis[i].legend()\n",
    "        i = i+1"
   ]
  },
  {
   "cell_type": "code",
   "execution_count": null,
   "id": "3462bfe6",
   "metadata": {},
   "outputs": [],
   "source": [
    "def obtain_data_tyres(dataset,compound,race):\n",
    "    extra = ''\n",
    "    if race == False:\n",
    "        extra = ' and lap_duration <112'\n",
    "    else:\n",
    "        extra = 'and lap_duration < 110'\n",
    "    setTyres = dataset.query('compound == @compound '+extra)\n",
    "    drivers_number = []\n",
    "    set_dict = {}\n",
    "    for index,row in setTyres.iterrows():\n",
    "        if row.driver_number not in drivers_number:\n",
    "            set_dict[row.driver_number] = []\n",
    "            drivers_number.append(row.driver_number)\n",
    "\n",
    "        set_dict[row.driver_number].append(row)\n",
    "\n",
    "    arrayDataframes = []\n",
    "    for valor in set_dict.values():\n",
    "        arrayDataframes.append(pd.DataFrame(valor))\n",
    "    colour = define_colour(compound)\n",
    "    show_plot(arrayDataframes,colour)"
   ]
  },
  {
   "cell_type": "code",
   "execution_count": null,
   "id": "7eb43bb4",
   "metadata": {},
   "outputs": [],
   "source": [
    "obtain_data_tyres(jointables,\"SOFT\",False)"
   ]
  },
  {
   "cell_type": "code",
   "execution_count": null,
   "id": "b8497998",
   "metadata": {},
   "outputs": [],
   "source": [
    "obtain_data_tyres(jointables,\"MEDIUM\",False)"
   ]
  },
  {
   "cell_type": "code",
   "execution_count": null,
   "id": "460b8b9e",
   "metadata": {},
   "outputs": [],
   "source": [
    "obtain_data_tyres(jointables,\"HARD\",False)"
   ]
  },
  {
   "cell_type": "code",
   "execution_count": null,
   "id": "67463566",
   "metadata": {},
   "outputs": [],
   "source": [
    "# Source: https://www.geeksforgeeks.org/how-to-annotate-bars-in-barplot-with-matplotlib-in-python/\n",
    "def obtainchart(xvariable,yvariable,dataset):\n",
    "    plt.figure(figsize=(12, 9))\n",
    "    plots = sns.barplot(x=xvariable, y=yvariable, data=dataset,color='yellow')\n",
    "    for bar in plots.patches:\n",
    "        plots.annotate(format(bar.get_height(), '.3f'), \n",
    "                       (bar.get_x() + bar.get_width() / 2, \n",
    "                        bar.get_height()), ha='center', va='center',\n",
    "                       size=8, xytext=(0, 7),\n",
    "                       textcoords='offset points')\n",
    "    plt.show()"
   ]
  },
  {
   "cell_type": "markdown",
   "id": "a6f710ad",
   "metadata": {},
   "source": [
    "### Top speed"
   ]
  },
  {
   "cell_type": "code",
   "execution_count": null,
   "id": "b171972c",
   "metadata": {},
   "outputs": [],
   "source": [
    "top_speed = jointables.loc[jointables.groupby(['name_acronym'])['st_speed'].idxmax()].sort_values(by=['st_speed'],ascending=False)\n",
    "obtainchart(\"name_acronym\",\"st_speed\",top_speed)"
   ]
  },
  {
   "cell_type": "code",
   "execution_count": null,
   "id": "96743da6",
   "metadata": {},
   "outputs": [],
   "source": [
    "top_speed = jointables.loc[jointables.groupby(['name_acronym'])['i1_speed'].idxmax()].sort_values(by=['i1_speed'],ascending=False)\n",
    "obtainchart(\"name_acronym\",\"i1_speed\",top_speed)"
   ]
  },
  {
   "cell_type": "code",
   "execution_count": null,
   "id": "83c46e7d",
   "metadata": {},
   "outputs": [],
   "source": [
    "top_speed = jointables.loc[jointables.groupby(['name_acronym'])['i2_speed'].idxmax()].sort_values(by=['i2_speed'],ascending=False)\n",
    "obtainchart(\"name_acronym\",\"i2_speed\",top_speed)"
   ]
  },
  {
   "cell_type": "markdown",
   "id": "06b3916d",
   "metadata": {},
   "source": [
    "### Fastest lap per compound"
   ]
  },
  {
   "cell_type": "code",
   "execution_count": null,
   "id": "365ca30b",
   "metadata": {},
   "outputs": [],
   "source": [
    "compoundsPace = jointables.loc[jointables.groupby(['compound'])['lap_duration'].idxmin()]\n",
    "compoundsPace[['full_name','compound','duration_sector_1','duration_sector_2','duration_sector_3','lap_duration']]"
   ]
  },
  {
   "cell_type": "markdown",
   "id": "e159e278",
   "metadata": {},
   "source": [
    "### Fastest lap"
   ]
  },
  {
   "cell_type": "code",
   "execution_count": null,
   "id": "4638375e",
   "metadata": {},
   "outputs": [],
   "source": [
    "def obtain_fastest_lap(driver,dataset,newdataset):\n",
    "    fastest_lap = dataset.query(\"driver_number == @driver\").lap_duration.min()\n",
    "    team_name = dataset.query(\"driver_number == @driver\").head(1).team_name.to_string(index=False)\n",
    "    #team_colour = dataset.query(\"driver_number == @driver\").head(1).team_colour.to_string(index=False)\n",
    "    name_acronym = dataset.query('driver_number == @driver').head(1).name_acronym.to_string(index=False)\n",
    "    new_row = {'driver_number':driver,'fastest_lap':fastest_lap,'name_acronym': name_acronym, 'team_name':team_name}\n",
    "    newdataset =pd.concat([newdataset, pd.DataFrame([new_row])], ignore_index=True)\n",
    "    return newdataset"
   ]
  },
  {
   "cell_type": "code",
   "execution_count": null,
   "id": "bd5851f1",
   "metadata": {},
   "outputs": [],
   "source": [
    "def obtain_deltas(dataset,array):\n",
    "    fastest_lap = dataset.fastest_lap.min()\n",
    "    for row in dataset.iterrows():\n",
    "        lap = row[1][1]\n",
    "        delta = lap-fastest_lap\n",
    "        array.append(delta)\n",
    "    return array"
   ]
  },
  {
   "cell_type": "code",
   "execution_count": null,
   "id": "6682702a",
   "metadata": {},
   "outputs": [],
   "source": [
    "practiceCleaned = jointables.query(\"lap_duration >1\")\n",
    "drivers_list = list(practiceCleaned['driver_number'].unique())\n",
    "newdataset = pd.DataFrame()\n",
    "for driver in drivers_list:\n",
    "    newdataset =obtain_fastest_lap(driver,practiceCleaned,newdataset)"
   ]
  },
  {
   "cell_type": "code",
   "execution_count": null,
   "id": "d340276e",
   "metadata": {},
   "outputs": [],
   "source": [
    "arr= obtain_deltas(newdataset,[])\n",
    "newdataset.insert(3,'delta',arr)"
   ]
  },
  {
   "cell_type": "code",
   "execution_count": null,
   "id": "2a168d0d",
   "metadata": {},
   "outputs": [],
   "source": [
    "dt = newdataset.sort_values(ascending=True,by='delta')\n",
    "obtainchart(\"name_acronym\",\"delta\",dt)"
   ]
  },
  {
   "cell_type": "markdown",
   "id": "7f64534d",
   "metadata": {},
   "source": [
    "### Lap duration"
   ]
  },
  {
   "cell_type": "code",
   "execution_count": null,
   "id": "fc8bae41",
   "metadata": {},
   "outputs": [],
   "source": [
    "boxplot = jointables.query(\"is_pit_out_lap == False and lap_duration < 100\").boxplot(column='lap_duration',by='name_acronym',fontsize=5)\n",
    "boxplot.get_figure().suptitle('drivers')"
   ]
  },
  {
   "cell_type": "markdown",
   "id": "02e8a017",
   "metadata": {},
   "source": [
    "### Track dominance"
   ]
  },
  {
   "cell_type": "markdown",
   "id": "da4b07a3",
   "metadata": {},
   "source": [
    "Note: It must not compare Fernando and Gasly laptimes because they did not used soft tyres.\n",
    "### Sector 1\n",
    "Both McLaren drivers were fastest on sector 1 with 3 tenths of difference beetween Lando and  Stroll.\n"
   ]
  },
  {
   "cell_type": "code",
   "execution_count": null,
   "id": "dd49dae5",
   "metadata": {},
   "outputs": [],
   "source": [
    "sectorPace = jointables.loc[jointables.groupby(['driver_number'])['duration_sector_1'].idxmin()].sort_values(by=['duration_sector_1'],ascending=True)\n",
    "sectorPace[['duration_sector_1','full_name','compound','lap_duration','lap_number']]"
   ]
  },
  {
   "cell_type": "markdown",
   "id": "9d55f3b7",
   "metadata": {},
   "source": [
    "### Sector 2\n",
    "Lance Stroll was the fastest but in terms of team, Red Bull was the fastest with 4 hundreths between Max and Checo"
   ]
  },
  {
   "cell_type": "code",
   "execution_count": null,
   "id": "b07c68bc",
   "metadata": {},
   "outputs": [],
   "source": [
    "sectorPace = jointables.loc[jointables.groupby(['driver_number'])['duration_sector_2'].idxmin()].sort_values(by=['duration_sector_2'],ascending=True)\n",
    "sectorPace[['duration_sector_2','full_name','compound','lap_duration','lap_number']]"
   ]
  },
  {
   "cell_type": "markdown",
   "id": "e478a841",
   "metadata": {},
   "source": [
    "### Sector 3\n",
    "In this case Checo was the fastest followed by Max. A thing that we should take into account is the pace shown by both Red Bulls in this sector that could give an hint about what it could happen in qualyfing."
   ]
  },
  {
   "cell_type": "code",
   "execution_count": null,
   "id": "8cd6a92a",
   "metadata": {},
   "outputs": [],
   "source": [
    "sectorPace = jointables.loc[jointables.groupby(['driver_number'])['duration_sector_3'].idxmin()].sort_values(by=['duration_sector_3'],ascending=True)\n",
    "sectorPace[['duration_sector_3','full_name','compound','lap_duration','lap_number']]"
   ]
  },
  {
   "cell_type": "markdown",
   "id": "01c204ec",
   "metadata": {},
   "source": [
    "### Race pace per teams"
   ]
  },
  {
   "cell_type": "code",
   "execution_count": null,
   "id": "0e57ffa1",
   "metadata": {},
   "outputs": [],
   "source": [
    "def getinfolonglaps(dataset,driver_number,team):\n",
    "    dataset = dataset.query(\"is_pit_out_lap == False and driver_number == @driver_number and team_name == @team and lap_duration < 106 and lap_duration >94 \")\n",
    "    return dataset[['full_name','compound','date_start','lap_number','duration_sector_1','duration_sector_2','duration_sector_3','lap_duration']]"
   ]
  },
  {
   "cell_type": "markdown",
   "id": "3ff0fcd3",
   "metadata": {},
   "source": [
    "#### Red Bull Racing"
   ]
  },
  {
   "cell_type": "code",
   "execution_count": null,
   "id": "5672d6ab",
   "metadata": {},
   "outputs": [],
   "source": [
    "stintInformation.query('driver_number == 1 or driver_number == 11')"
   ]
  },
  {
   "cell_type": "code",
   "execution_count": null,
   "id": "7c0cfce7",
   "metadata": {},
   "outputs": [],
   "source": [
    "getinfolonglaps(jointables,1,'Red Bull Racing')"
   ]
  },
  {
   "cell_type": "code",
   "execution_count": null,
   "id": "40df931a",
   "metadata": {},
   "outputs": [],
   "source": [
    "getinfolonglaps(jointables,11,'Red Bull Racing')"
   ]
  },
  {
   "cell_type": "markdown",
   "id": "11706f8f",
   "metadata": {},
   "source": [
    "#### Ferrari"
   ]
  },
  {
   "cell_type": "code",
   "execution_count": null,
   "id": "435eac6e",
   "metadata": {},
   "outputs": [],
   "source": [
    "stintInformation.query('driver_number == 16 or driver_number == 55')"
   ]
  },
  {
   "cell_type": "code",
   "execution_count": null,
   "id": "5e80d097",
   "metadata": {},
   "outputs": [],
   "source": [
    "getinfolonglaps(jointables,16,'Ferrari')"
   ]
  },
  {
   "cell_type": "code",
   "execution_count": null,
   "id": "08dd89f3",
   "metadata": {},
   "outputs": [],
   "source": [
    "getinfolonglaps(jointables,55,'Ferrari')"
   ]
  },
  {
   "cell_type": "markdown",
   "id": "59b2686e",
   "metadata": {},
   "source": [
    "#### Mercedes"
   ]
  },
  {
   "cell_type": "code",
   "execution_count": null,
   "id": "3c53cebe",
   "metadata": {},
   "outputs": [],
   "source": [
    "stintInformation.query('driver_number == 63 or driver_number == 44')"
   ]
  },
  {
   "cell_type": "code",
   "execution_count": null,
   "id": "f27a878b",
   "metadata": {},
   "outputs": [],
   "source": [
    "getinfolonglaps(jointables,63,'Mercedes')"
   ]
  },
  {
   "cell_type": "code",
   "execution_count": null,
   "id": "fd0872cd",
   "metadata": {},
   "outputs": [],
   "source": [
    "getinfolonglaps(jointables,44,'Mercedes')"
   ]
  },
  {
   "cell_type": "markdown",
   "id": "3a60bef5",
   "metadata": {},
   "source": [
    "#### Aston Martin"
   ]
  },
  {
   "cell_type": "code",
   "execution_count": null,
   "id": "1b39f1bc",
   "metadata": {},
   "outputs": [],
   "source": [
    "stintInformation.query('driver_number == 14 or driver_number == 18')"
   ]
  },
  {
   "cell_type": "code",
   "execution_count": null,
   "id": "b1fa5e67",
   "metadata": {},
   "outputs": [],
   "source": [
    "getinfolonglaps(jointables,14,'Aston Martin')"
   ]
  },
  {
   "cell_type": "code",
   "execution_count": null,
   "id": "5f0eaf5c",
   "metadata": {},
   "outputs": [],
   "source": [
    "getinfolonglaps(jointables,18,'Aston Martin')"
   ]
  },
  {
   "cell_type": "markdown",
   "id": "e1fec2df",
   "metadata": {},
   "source": [
    "#### McLaren"
   ]
  },
  {
   "cell_type": "code",
   "execution_count": null,
   "id": "c2403b92",
   "metadata": {},
   "outputs": [],
   "source": [
    "stintInformation.query('driver_number == 4 or driver_number == 81')"
   ]
  },
  {
   "cell_type": "code",
   "execution_count": null,
   "id": "e4ca243a",
   "metadata": {},
   "outputs": [],
   "source": [
    "getinfolonglaps(jointables,81,'McLaren')"
   ]
  },
  {
   "cell_type": "code",
   "execution_count": null,
   "id": "396d5438",
   "metadata": {},
   "outputs": [],
   "source": [
    "getinfolonglaps(jointables,4,'McLaren')"
   ]
  },
  {
   "cell_type": "markdown",
   "id": "3b22a84f",
   "metadata": {},
   "source": [
    "#### RB"
   ]
  },
  {
   "cell_type": "code",
   "execution_count": null,
   "id": "ede155fa",
   "metadata": {},
   "outputs": [],
   "source": [
    "stintInformation.query('driver_number == 3 or driver_number == 22')"
   ]
  },
  {
   "cell_type": "code",
   "execution_count": null,
   "id": "e27cba4f",
   "metadata": {},
   "outputs": [],
   "source": [
    "getinfolonglaps(jointables,3,'RB')"
   ]
  },
  {
   "cell_type": "code",
   "execution_count": null,
   "id": "e222f769",
   "metadata": {},
   "outputs": [],
   "source": [
    "getinfolonglaps(jointables,22,'RB')"
   ]
  },
  {
   "cell_type": "markdown",
   "id": "594d9ab3",
   "metadata": {},
   "source": [
    "#### Williams"
   ]
  },
  {
   "cell_type": "code",
   "execution_count": null,
   "id": "e3f6919e",
   "metadata": {},
   "outputs": [],
   "source": [
    "stintInformation.query('driver_number == 2 or driver_number == 23')"
   ]
  },
  {
   "cell_type": "code",
   "execution_count": null,
   "id": "13f18901",
   "metadata": {},
   "outputs": [],
   "source": [
    "getinfolonglaps(jointables,2,'Williams')"
   ]
  },
  {
   "cell_type": "code",
   "execution_count": null,
   "id": "9e05a48f",
   "metadata": {},
   "outputs": [],
   "source": [
    "getinfolonglaps(jointables,23,'Williams')"
   ]
  },
  {
   "cell_type": "markdown",
   "id": "7e131cfa",
   "metadata": {},
   "source": [
    "#### Kick Sauber"
   ]
  },
  {
   "cell_type": "code",
   "execution_count": null,
   "id": "03f6b8a6",
   "metadata": {},
   "outputs": [],
   "source": [
    "stintInformation.query('driver_number == 24 or driver_number == 77')"
   ]
  },
  {
   "cell_type": "code",
   "execution_count": null,
   "id": "cf809bbd",
   "metadata": {},
   "outputs": [],
   "source": [
    "getinfolonglaps(jointables,24,'Kick Sauber')"
   ]
  },
  {
   "cell_type": "code",
   "execution_count": null,
   "id": "c84254dc",
   "metadata": {},
   "outputs": [],
   "source": [
    "getinfolonglaps(jointables,77,'Kick Sauber')"
   ]
  },
  {
   "cell_type": "markdown",
   "id": "0c35db33",
   "metadata": {},
   "source": [
    "#### Alpine"
   ]
  },
  {
   "cell_type": "code",
   "execution_count": null,
   "id": "cf6bd2c7",
   "metadata": {},
   "outputs": [],
   "source": [
    "stintInformation.query('driver_number == 10 or driver_number == 31')"
   ]
  },
  {
   "cell_type": "code",
   "execution_count": null,
   "id": "bb86a322",
   "metadata": {},
   "outputs": [],
   "source": [
    "getinfolonglaps(jointables,10,'Alpine')"
   ]
  },
  {
   "cell_type": "code",
   "execution_count": null,
   "id": "707e2258",
   "metadata": {},
   "outputs": [],
   "source": [
    "getinfolonglaps(jointables,31,'Alpine')"
   ]
  },
  {
   "cell_type": "markdown",
   "id": "2c3811a7",
   "metadata": {},
   "source": [
    "#### Haas"
   ]
  },
  {
   "cell_type": "code",
   "execution_count": null,
   "id": "1278493d",
   "metadata": {},
   "outputs": [],
   "source": [
    "stintInformation.query('driver_number == 20 or driver_number == 27')"
   ]
  },
  {
   "cell_type": "code",
   "execution_count": null,
   "id": "ed761986",
   "metadata": {},
   "outputs": [],
   "source": [
    "getinfolonglaps(jointables,20,'Haas')"
   ]
  },
  {
   "cell_type": "code",
   "execution_count": null,
   "id": "25a2e07d",
   "metadata": {},
   "outputs": [],
   "source": [
    "getinfolonglaps(jointables,27,'Haas')"
   ]
  },
  {
   "cell_type": "markdown",
   "id": "4f41f5e9",
   "metadata": {},
   "source": [
    "Seeing the charts and also the long stints I think that one stop it could not be an option because there is a lot of degradation and I think that among lap 13-18, drivers would have to change their tyres.They have to change among these lap because since lap 14 we can see a difference of 1 second beetween these sets of tyres. In case of hards tyres, degratation are low and it could be a good tyre in the medium stint. Among 38-43 lap they should stop to change for mediums.\n",
    "Soft would not be used as a race tyre."
   ]
  },
  {
   "cell_type": "markdown",
   "id": "733e277d",
   "metadata": {},
   "source": [
    "## Sprint Qualyfing"
   ]
  },
  {
   "cell_type": "markdown",
   "id": "4437e262",
   "metadata": {},
   "source": [
    "### Race control\n",
    "This section has been added in order to know which laps has been deleted and knowing what happened on track during this session as well."
   ]
  },
  {
   "cell_type": "code",
   "execution_count": null,
   "id": "0f83fac3",
   "metadata": {},
   "outputs": [],
   "source": [
    "url = 'https://api.openf1.org/v1/race_control?'\n",
    "session_key = 'session_key=9668'\n",
    "urltotal = url+session_key\n",
    "\n",
    "response = urlopen(urltotal)\n",
    "data = json.loads(response.read().decode('utf-8'))\n",
    "race_control = pd.DataFrame(data)\n",
    "race_control.query(\"category== 'Other'\")"
   ]
  },
  {
   "cell_type": "code",
   "execution_count": null,
   "id": "9855f4da",
   "metadata": {},
   "outputs": [],
   "source": [
    "url = 'https://api.openf1.org/v1/laps?'\n",
    "urltotal = url+session_key\n",
    "\n",
    "response = urlopen(urltotal)\n",
    "data = json.loads(response.read().decode('utf-8'))\n",
    "qualyfing = pd.DataFrame(data)\n",
    "qualyfing"
   ]
  },
  {
   "cell_type": "markdown",
   "id": "8cf8160f",
   "metadata": {},
   "source": [
    "In race control dataset, I can see a lot of laptimes deleted, principally for track limits. Those laps deleted were deleted from dataset in order to obtain only the valid laps for the analysis."
   ]
  },
  {
   "cell_type": "code",
   "execution_count": null,
   "id": "237386ef",
   "metadata": {},
   "outputs": [],
   "source": [
    "qualyfing = qualyfing.drop(122)\n",
    "qualyfing = qualyfing.drop(183)\n",
    "qualyfing = qualyfing.drop(181)\n",
    "qualyfing = qualyfing.drop(196)\n",
    "qualyfing = qualyfing.drop(199)\n",
    "qualyfing = qualyfing.drop(193)\n",
    "qualyfing = qualyfing.drop(191)\n",
    "qualyfing = qualyfing.drop(204)"
   ]
  },
  {
   "cell_type": "markdown",
   "id": "cd5ad739",
   "metadata": {},
   "source": [
    "As the qualyfing session has been with weather changes, I will take two fastests lap as a reference to obtain all the competitive laps. For this reason, I show two laps, one with dry conditions and other with wets."
   ]
  },
  {
   "cell_type": "code",
   "execution_count": null,
   "id": "62ea975f",
   "metadata": {},
   "outputs": [],
   "source": [
    "bestlap_dry = qualyfing.loc[qualyfing.groupby(['driver_number'])['lap_duration'].idxmin()].sort_values(by=['lap_duration'],ascending=True)\n",
    "bestlap_dry[0:1]"
   ]
  },
  {
   "cell_type": "code",
   "execution_count": null,
   "id": "d9c90848",
   "metadata": {},
   "outputs": [],
   "source": [
    "bestlap_wet = qualyfing.query(\"date_start>='2024-04-19T08:11:00'\").loc[qualyfing.query(\"date_start>='2024-04-19T08:11:00'\").groupby(['driver_number'])['lap_duration'].idxmin()].sort_values(by=['lap_duration'],ascending=True)\n",
    "bestlap_wet[0:1]"
   ]
  },
  {
   "cell_type": "markdown",
   "id": "5ac8c6d2",
   "metadata": {},
   "source": [
    "In this case, the fastest lap in dry conditions is 95.606 seconds (1.35.606= so that to obtain the competitve laps the fastest lap will be multiplied by 1.07 (102.298 seconds) due to, according to the rules all the drivers have to do unless one lap within this gap."
   ]
  },
  {
   "cell_type": "code",
   "execution_count": null,
   "id": "7174ef01",
   "metadata": {},
   "outputs": [],
   "source": [
    "competitiveLaps_dry = qualyfing.query(\"is_pit_out_lap == False and lap_duration < 102.298\")\n",
    "competitiveLaps_dry"
   ]
  },
  {
   "cell_type": "markdown",
   "id": "8c15f210",
   "metadata": {},
   "source": [
    "In this case, the fastest lap in wet conditions is 117.94 seconds (1.57.94= so that to obtain the competitve laps the fastest lap will be multiplied by 1.07 (126.195 seconds) due to, according to the rules all the drivers have to do unless one lap within this gap."
   ]
  },
  {
   "cell_type": "code",
   "execution_count": null,
   "id": "146bdb09",
   "metadata": {},
   "outputs": [],
   "source": [
    "competitiveLaps_wet = qualyfing.query(\"date_start>='2024-04-19T08:11:00' and is_pit_out_lap == False and lap_duration < 126.1958\")\n",
    "competitiveLaps_wet"
   ]
  },
  {
   "cell_type": "code",
   "execution_count": null,
   "id": "1adef6f9",
   "metadata": {},
   "outputs": [],
   "source": [
    "def obtain_information_qualy(driver,dataset,newdataset):\n",
    "    fastest_lap = dataset.query(\"driver_number == @driver\").lap_duration.min()\n",
    "    fastest_lap_absolute = dataset.lap_duration.min()\n",
    "    delta = fastest_lap - fastest_lap_absolute\n",
    "    st_speed = dataset.query(\"driver_number == @driver\").st_speed.min()\n",
    "    i1_speed = dataset.query(\"driver_number == @driver\").i1_speed.min()\n",
    "    i2_speed = dataset.query(\"driver_number == @driver\").i2_speed.min()\n",
    "    new_row = {'driver_number':driver,'fastest_lap':fastest_lap,'delta': delta,'st_speed':st_speed,'i1_speed':i1_speed,'i2_speed':i2_speed}\n",
    "    newdataset =pd.concat([newdataset, pd.DataFrame([new_row])], ignore_index=True)\n",
    "    return newdataset"
   ]
  },
  {
   "cell_type": "code",
   "execution_count": null,
   "id": "68a95a1c",
   "metadata": {},
   "outputs": [],
   "source": [
    "drivers_list = list(competitiveLaps_dry['driver_number'].unique())\n",
    "newdataset = pd.DataFrame()\n",
    "for driver in drivers_list:\n",
    "    newdataset =obtain_information_qualy(driver,competitiveLaps_dry,newdataset)\n",
    "jointables = pd.merge(newdataset,drivers,on=['driver_number'])\n",
    "jointables.sort_values(by=['fastest_lap'],ascending=True)"
   ]
  },
  {
   "cell_type": "markdown",
   "id": "bc723e88",
   "metadata": {},
   "source": [
    "#### Best lap per driver compared with the best lap of the session in dry conditions"
   ]
  },
  {
   "cell_type": "code",
   "execution_count": null,
   "id": "770dee08",
   "metadata": {},
   "outputs": [],
   "source": [
    "obtainchart(\"name_acronym\",\"delta\",jointables.sort_values(by=['fastest_lap'],ascending=True))"
   ]
  },
  {
   "cell_type": "code",
   "execution_count": null,
   "id": "2a18d71b",
   "metadata": {},
   "outputs": [],
   "source": [
    "drivers_list = list(competitiveLaps_wet['driver_number'].unique())\n",
    "newdataset = pd.DataFrame()\n",
    "for driver in drivers_list:\n",
    "    newdataset =obtain_information_qualy(driver,competitiveLaps_wet,newdataset)\n",
    "jointables = pd.merge(newdataset,drivers,on=['driver_number'])\n",
    "jointables.sort_values(by=['fastest_lap'],ascending=True)"
   ]
  },
  {
   "cell_type": "markdown",
   "id": "d78e431f",
   "metadata": {},
   "source": [
    "#### Best lap per driver compared with the best lap of the session in wet conditions"
   ]
  },
  {
   "cell_type": "code",
   "execution_count": null,
   "id": "ea3a4468",
   "metadata": {},
   "outputs": [],
   "source": [
    "obtainchart(\"name_acronym\",\"delta\",jointables.sort_values(by=['fastest_lap'],ascending=True))"
   ]
  },
  {
   "cell_type": "code",
   "execution_count": null,
   "id": "471bd07c",
   "metadata": {},
   "outputs": [],
   "source": [
    "mergequaly_dry = pd.merge(competitiveLaps_dry,drivers,on=['driver_number'])\n",
    "mergequaly_dry"
   ]
  },
  {
   "cell_type": "code",
   "execution_count": null,
   "id": "1089c8bf",
   "metadata": {},
   "outputs": [],
   "source": [
    "mergequaly_wet = pd.merge(competitiveLaps_wet,drivers,on=['driver_number'])\n",
    "mergequaly_wet"
   ]
  },
  {
   "cell_type": "code",
   "execution_count": null,
   "id": "32632fff",
   "metadata": {},
   "outputs": [],
   "source": [
    "def obtain_difference_regard_reference(row,reference,newdataset):\n",
    "    difference_sector_1 = row.duration_sector_1 - reference.duration_sector_1.iloc[0]\n",
    "    difference_sector_2 = row.duration_sector_2 - reference.duration_sector_2.iloc[0]\n",
    "    difference_sector_3 = row.duration_sector_3 - reference.duration_sector_3.iloc[0]\n",
    "    lap_duration = row.lap_duration - reference.lap_duration.iloc[0]\n",
    "    new_row = {'driver_number':row.driver_number,'lap_duration':lap_duration,'difference_sector_1':difference_sector_1 ,'difference_sector_2':difference_sector_2,'difference_sector_3':difference_sector_3,'name_acronym':row.name_acronym   }\n",
    "    \n",
    "    newdataset =pd.concat([newdataset, pd.DataFrame([new_row])], ignore_index=True)\n",
    "    return newdataset"
   ]
  },
  {
   "cell_type": "code",
   "execution_count": null,
   "id": "168aec50",
   "metadata": {},
   "outputs": [],
   "source": [
    "# Function done to obtain more information about the qualyfing session\n",
    "def obtainInfoAboutQualySession(dataset,fecha):\n",
    "    sessiondataset =dataset.query(fecha).sort_values(by='lap_duration')\n",
    "    isFastestLap = []\n",
    "    for index,row in sessiondataset.iterrows():\n",
    "        driver = row.driver_number\n",
    "        fastest_lap = sessiondataset.query(\"driver_number == @driver\").lap_duration.min()\n",
    "        if row.lap_duration == fastest_lap:\n",
    "            isFastestLap.append(True)\n",
    "        else:\n",
    "            isFastestLap.append(False)\n",
    "    sessiondataset['isFastestLap'] = isFastestLap\n",
    "    return sessiondataset"
   ]
  },
  {
   "cell_type": "code",
   "execution_count": null,
   "id": "834ddcd1",
   "metadata": {},
   "outputs": [],
   "source": [
    "# In order to know when each session finished, race control dataset will be consulted.\n",
    "maximumDateQ1 = \"date_start <'2024-04-19T07:54:00'\"\n",
    "maximumDateQ2 = \"date_start <'2024-04-19T08:11:00' and date_start >='2024-04-19T07:54:00'\"\n",
    "maximumDateQ3 = \"date_start >'2024-04-19T08:11:00'\""
   ]
  },
  {
   "cell_type": "markdown",
   "id": "ba5cb1d4",
   "metadata": {},
   "source": [
    "#### Sprint Qualyfing 1"
   ]
  },
  {
   "cell_type": "code",
   "execution_count": null,
   "id": "b56c752a",
   "metadata": {},
   "outputs": [],
   "source": [
    "q1Data = obtainInfoAboutQualySession(mergequaly_dry,maximumDateQ1).query(\"isFastestLap == True\").sort_values(by=['lap_duration'],ascending=True)\n",
    "q1Data"
   ]
  },
  {
   "cell_type": "markdown",
   "id": "12a0ff02",
   "metadata": {},
   "source": [
    "##### Comparaison with driver at risk\n",
    "In this section with the fastest lap done for each driver (laptimes deleted will not be taken into account to do this analysis) it will be a comparaison in order to see where the driver eliminated lost/gain time in their fastest lap."
   ]
  },
  {
   "cell_type": "code",
   "execution_count": null,
   "id": "51fdeba2",
   "metadata": {},
   "outputs": [],
   "source": [
    "#Reference\n",
    "P15 = q1Data[14:15]\n",
    "P15"
   ]
  },
  {
   "cell_type": "code",
   "execution_count": null,
   "id": "88e7184c",
   "metadata": {},
   "outputs": [],
   "source": [
    "print(\n",
    "\"Driver:\",P15.full_name.to_string(index=False),\n",
    "\"Sector 1: \",P15.duration_sector_1.to_string(index=False),\n",
    "\"Sector 2: \",P15.duration_sector_2.to_string(index=False),\n",
    "\"Sector 3: \",P15.duration_sector_3.to_string(index=False)\n",
    ")"
   ]
  },
  {
   "cell_type": "code",
   "execution_count": null,
   "id": "d822f612",
   "metadata": {},
   "outputs": [],
   "source": [
    "newdataset2 = pd.DataFrame()\n",
    "for index,row in q1Data[15::].iterrows():\n",
    "    newdataset2 = obtain_difference_regard_reference(row,P15,newdataset2)\n",
    "\n",
    "newdataset2"
   ]
  },
  {
   "cell_type": "markdown",
   "id": "eb8e3e18",
   "metadata": {},
   "source": [
    "##### Best sector times per driver"
   ]
  },
  {
   "cell_type": "code",
   "execution_count": null,
   "id": "8c26c98f",
   "metadata": {},
   "outputs": [],
   "source": [
    "pd.DataFrame(q1Data.groupby(\"name_acronym\")['duration_sector_1'].min().sort_values(ascending=True))"
   ]
  },
  {
   "cell_type": "code",
   "execution_count": null,
   "id": "33b5dbce",
   "metadata": {},
   "outputs": [],
   "source": [
    "pd.DataFrame(q1Data.groupby(\"name_acronym\")['duration_sector_2'].min().sort_values(ascending=True))"
   ]
  },
  {
   "cell_type": "code",
   "execution_count": null,
   "id": "77c5b5d7",
   "metadata": {},
   "outputs": [],
   "source": [
    "pd.DataFrame(q1Data.groupby(\"name_acronym\")['duration_sector_3'].min().sort_values(ascending=True))"
   ]
  },
  {
   "cell_type": "markdown",
   "id": "b9da025b",
   "metadata": {},
   "source": [
    "#### Sprint Qualyfing 2"
   ]
  },
  {
   "cell_type": "code",
   "execution_count": null,
   "id": "263d57d6",
   "metadata": {},
   "outputs": [],
   "source": [
    "q2Data = obtainInfoAboutQualySession(mergequaly_dry,maximumDateQ2).query(\"isFastestLap == True\").sort_values(by=['lap_duration'],ascending=True)\n",
    "q2Data"
   ]
  },
  {
   "cell_type": "markdown",
   "id": "103a574b",
   "metadata": {},
   "source": [
    "##### Comparaison with driver at risk\n",
    "In this section with the fastest lap done for each driver (laptimes deleted will not be taken into account to do this analysis) it will be a comparaison in order to see where the driver eliminated lost/gain time in their fastest lap."
   ]
  },
  {
   "cell_type": "code",
   "execution_count": null,
   "id": "c2713c2c",
   "metadata": {},
   "outputs": [],
   "source": [
    "#Reference\n",
    "P10 = q2Data[9:10]\n",
    "print(\n",
    "\"Driver:\",P10.full_name.to_string(index=False),\n",
    "\"Sector 1: \",P10.duration_sector_1.to_string(index=False),\n",
    "\"Sector 2: \",P10.duration_sector_2.to_string(index=False),\n",
    "\"Sector 3: \",P10.duration_sector_3.to_string(index=False)\n",
    ")"
   ]
  },
  {
   "cell_type": "code",
   "execution_count": null,
   "id": "55672856",
   "metadata": {},
   "outputs": [],
   "source": [
    "newdataset2 = pd.DataFrame()\n",
    "for index,row in q2Data[10::].iterrows():\n",
    "    newdataset2 = obtain_difference_regard_reference(row,P10,newdataset2)\n",
    "\n",
    "newdataset2"
   ]
  },
  {
   "cell_type": "markdown",
   "id": "c1064adc",
   "metadata": {},
   "source": [
    "##### Best sector times per driver"
   ]
  },
  {
   "cell_type": "code",
   "execution_count": null,
   "id": "00492bb5",
   "metadata": {},
   "outputs": [],
   "source": [
    "pd.DataFrame(q2Data.groupby(\"name_acronym\")['duration_sector_1'].min().sort_values(ascending=True))"
   ]
  },
  {
   "cell_type": "code",
   "execution_count": null,
   "id": "10cd0847",
   "metadata": {},
   "outputs": [],
   "source": [
    "pd.DataFrame(q2Data.groupby(\"name_acronym\")['duration_sector_2'].min().sort_values(ascending=True))"
   ]
  },
  {
   "cell_type": "code",
   "execution_count": null,
   "id": "c66e5b77",
   "metadata": {},
   "outputs": [],
   "source": [
    "pd.DataFrame(q2Data.groupby(\"name_acronym\")['duration_sector_3'].min().sort_values(ascending=True))"
   ]
  },
  {
   "cell_type": "markdown",
   "id": "65799f91",
   "metadata": {},
   "source": [
    "#### Sprint Qualyfing 3"
   ]
  },
  {
   "cell_type": "code",
   "execution_count": null,
   "id": "3a41d970",
   "metadata": {},
   "outputs": [],
   "source": [
    "q3Data = obtainInfoAboutQualySession(mergequaly_wet,maximumDateQ3).query(\"isFastestLap == True\").sort_values(by=['lap_duration'],ascending=True)\n",
    "q3Data"
   ]
  },
  {
   "cell_type": "code",
   "execution_count": null,
   "id": "6caafa91",
   "metadata": {},
   "outputs": [],
   "source": [
    "#Reference\n",
    "P1 = q3Data[:1]\n",
    "print(\n",
    "\"Driver:\",P1.full_name.to_string(index=False),\n",
    "\"Sector 1: \",P1.duration_sector_1.to_string(index=False),\n",
    "\"Sector 2: \",P1.duration_sector_2.to_string(index=False),\n",
    "\"Sector 3: \",P1.duration_sector_3.to_string(index=False)\n",
    ")"
   ]
  },
  {
   "cell_type": "markdown",
   "id": "100b066b",
   "metadata": {},
   "source": [
    "##### Comparaison with poleman\n",
    "In this section with the fastest lap done for each driver (laptimes deleted will not be taken into account to do this analysis) it will be a comparaison in order to see where the driver eliminated lost/gain time in their fastest lap."
   ]
  },
  {
   "cell_type": "code",
   "execution_count": null,
   "id": "5d7bc75b",
   "metadata": {},
   "outputs": [],
   "source": [
    "newdataset2 = pd.DataFrame()\n",
    "for index,row in q3Data[1::].iterrows():\n",
    "    newdataset2 = obtain_difference_regard_reference(row,P1,newdataset2)\n",
    "newdataset2"
   ]
  },
  {
   "cell_type": "markdown",
   "id": "4c945460",
   "metadata": {},
   "source": [
    "#### Best sector per driver"
   ]
  },
  {
   "cell_type": "code",
   "execution_count": null,
   "id": "9f4c8051",
   "metadata": {},
   "outputs": [],
   "source": [
    "pd.DataFrame(q3Data.groupby(\"name_acronym\")['duration_sector_1'].min().sort_values(ascending=True))"
   ]
  },
  {
   "cell_type": "code",
   "execution_count": null,
   "id": "0ff8f148",
   "metadata": {},
   "outputs": [],
   "source": [
    "pd.DataFrame(q3Data.groupby(\"name_acronym\")['duration_sector_2'].min().sort_values(ascending=True))"
   ]
  },
  {
   "cell_type": "code",
   "execution_count": null,
   "id": "c2e9dd2f",
   "metadata": {},
   "outputs": [],
   "source": [
    "pd.DataFrame(q3Data.groupby(\"name_acronym\")['duration_sector_3'].min().sort_values(ascending=True))"
   ]
  },
  {
   "cell_type": "code",
   "execution_count": null,
   "id": "9ef11c2f",
   "metadata": {},
   "outputs": [],
   "source": [
    "pd.DataFrame(mergequaly_dry.groupby(\"name_acronym\")['duration_sector_1'].min().sort_values(ascending=True))"
   ]
  },
  {
   "cell_type": "code",
   "execution_count": null,
   "id": "49908d46",
   "metadata": {},
   "outputs": [],
   "source": [
    "pd.DataFrame(mergequaly_dry.groupby(\"name_acronym\")['duration_sector_2'].min().sort_values(ascending=True))"
   ]
  },
  {
   "cell_type": "code",
   "execution_count": null,
   "id": "b08d2db9",
   "metadata": {},
   "outputs": [],
   "source": [
    "pd.DataFrame(mergequaly_dry.groupby(\"name_acronym\")['duration_sector_3'].min().sort_values(ascending=True))"
   ]
  },
  {
   "cell_type": "markdown",
   "id": "28ad03cb",
   "metadata": {},
   "source": [
    "## Sprint"
   ]
  },
  {
   "cell_type": "code",
   "execution_count": null,
   "id": "6d3e876a",
   "metadata": {},
   "outputs": [],
   "source": [
    "session_key = 'session_key=9672'\n",
    "url = 'https://api.openf1.org/v1/laps?'\n",
    "urltotal = url+session_key\n",
    "\n",
    "response = urlopen(urltotal)\n",
    "data = json.loads(response.read().decode('utf-8'))\n",
    "sprint = pd.DataFrame(data)\n",
    "sprint"
   ]
  },
  {
   "cell_type": "code",
   "execution_count": null,
   "id": "27b5b176",
   "metadata": {},
   "outputs": [],
   "source": [
    "#Stints\n",
    "url = 'https://api.openf1.org/v1/stints?'\n",
    "\n",
    "urltotal = url+session_key\n",
    "\n",
    "response = urlopen(urltotal)\n",
    "data = json.loads(response.read().decode('utf-8'))\n",
    "stintInformation = pd.DataFrame(data)\n",
    "stintInformation"
   ]
  },
  {
   "cell_type": "code",
   "execution_count": null,
   "id": "5a2c53ea",
   "metadata": {},
   "outputs": [],
   "source": [
    "stintsDataFrame = pd.DataFrame()\n",
    "for index,row in stintInformation.iterrows():\n",
    "    number_driver = row.driver_number\n",
    "    acronym_driver = drivers.query('driver_number == @number_driver').name_acronym.to_string(index=False)\n",
    "    full_name = drivers.query('driver_number == @number_driver').full_name.to_string(index=False)\n",
    "    team_name = drivers.query('driver_number == @number_driver').team_name.to_string(index=False)\n",
    "    if row.lap_start != row.lap_end:\n",
    "        contador = row.lap_start\n",
    "        while contador <=row.lap_end :\n",
    "            new_row = {'driver_number':row.driver_number,'compound':row.compound,'lap_number':contador,'name_acronym':acronym_driver,'full_name':full_name,'team_name':team_name}\n",
    "            stintsDataFrame = pd.concat([stintsDataFrame, pd.DataFrame([new_row])], ignore_index=True)\n",
    "            contador+=1\n",
    "    else:\n",
    "    \n",
    "        new_row = {'driver_number':row.driver_number,'compound':row.compound,'lap_number':row.lap_start,'name_acronym':acronym_driver,'full_name':full_name,'team_name':team_name}\n",
    "        stintsDataFrame =pd.concat([stintsDataFrame, pd.DataFrame([new_row])], ignore_index=True)"
   ]
  },
  {
   "cell_type": "code",
   "execution_count": null,
   "id": "360cddd0",
   "metadata": {},
   "outputs": [],
   "source": [
    "jointables = pd.merge(sprint,stintsDataFrame,on=['lap_number','driver_number'])\n",
    "jointables"
   ]
  },
  {
   "cell_type": "code",
   "execution_count": null,
   "id": "aae82cbb",
   "metadata": {},
   "outputs": [],
   "source": [
    "obtain_data_tyres(jointables,\"MEDIUM\",False)"
   ]
  },
  {
   "cell_type": "code",
   "execution_count": null,
   "id": "adc9265d",
   "metadata": {},
   "outputs": [],
   "source": [
    "#obtain_data_tyres(jointables,\"SOFT\",False)"
   ]
  },
  {
   "cell_type": "code",
   "execution_count": null,
   "id": "d4d0a0c8",
   "metadata": {},
   "outputs": [],
   "source": [
    "top_speed = jointables.loc[jointables.groupby(['name_acronym'])['st_speed'].idxmax()].sort_values(by=['st_speed'],ascending=False)\n",
    "obtainchart(\"name_acronym\",\"st_speed\",top_speed)"
   ]
  },
  {
   "cell_type": "code",
   "execution_count": null,
   "id": "4024fe69",
   "metadata": {},
   "outputs": [],
   "source": [
    "top_speed = jointables.loc[jointables.groupby(['name_acronym'])['i1_speed'].idxmax()].sort_values(by=['i1_speed'],ascending=False)\n",
    "obtainchart(\"name_acronym\",\"i1_speed\",top_speed)"
   ]
  },
  {
   "cell_type": "code",
   "execution_count": null,
   "id": "28c61d95",
   "metadata": {},
   "outputs": [],
   "source": [
    "top_speed = jointables.loc[jointables.groupby(['name_acronym'])['i2_speed'].idxmax()].sort_values(by=['i2_speed'],ascending=False)\n",
    "obtainchart(\"name_acronym\",\"i2_speed\",top_speed)"
   ]
  },
  {
   "cell_type": "code",
   "execution_count": null,
   "id": "acc7cc69",
   "metadata": {},
   "outputs": [],
   "source": [
    "race_pace = pd.DataFrame(jointables.query(\"is_pit_out_lap == False  and lap_duration <= 110\").dropna().groupby(\"team_name\")['lap_duration'].mean().sort_values(ascending=True))\n",
    "race_pace"
   ]
  },
  {
   "cell_type": "code",
   "execution_count": null,
   "id": "32b8fcbf",
   "metadata": {},
   "outputs": [],
   "source": [
    "def obtain_race_pace(dataset,array):\n",
    "    fastest_lap = dataset.lap_duration.min()\n",
    "    for row in dataset.iterrows():\n",
    "        lap = row[1][0]\n",
    "        delta = lap-fastest_lap\n",
    "        array.append(delta)\n",
    "    return array\n",
    "arr= obtain_race_pace(race_pace,[])\n",
    "race_pace.insert(1,'delta',arr)"
   ]
  },
  {
   "cell_type": "markdown",
   "id": "36d8d585",
   "metadata": {},
   "source": [
    "#### Race pace per teams"
   ]
  },
  {
   "cell_type": "code",
   "execution_count": null,
   "id": "c40ab9e1",
   "metadata": {},
   "outputs": [],
   "source": [
    "race_pace"
   ]
  },
  {
   "cell_type": "code",
   "execution_count": null,
   "id": "f5192043",
   "metadata": {},
   "outputs": [],
   "source": [
    "race_pace = pd.DataFrame(jointables.query(\"is_pit_out_lap == False  and lap_duration <= 110\").dropna().groupby(\"team_name\")['duration_sector_1'].mean().sort_values(ascending=True))\n",
    "race_pace"
   ]
  },
  {
   "cell_type": "code",
   "execution_count": null,
   "id": "88902231",
   "metadata": {},
   "outputs": [],
   "source": [
    "race_pace = pd.DataFrame(jointables.query(\"is_pit_out_lap == False  and lap_duration <= 110\").dropna().groupby(\"team_name\")['duration_sector_2'].mean().sort_values(ascending=True))\n",
    "race_pace"
   ]
  },
  {
   "cell_type": "code",
   "execution_count": null,
   "id": "410bc863",
   "metadata": {},
   "outputs": [],
   "source": [
    "race_pace = pd.DataFrame(jointables.query(\"is_pit_out_lap == False  and lap_duration <= 110\").dropna().groupby(\"team_name\")['duration_sector_3'].mean().sort_values(ascending=True))\n",
    "race_pace"
   ]
  },
  {
   "cell_type": "markdown",
   "id": "d4fe20eb",
   "metadata": {},
   "source": [
    "#### Red Bull Racing"
   ]
  },
  {
   "cell_type": "code",
   "execution_count": null,
   "id": "925e2a45",
   "metadata": {},
   "outputs": [],
   "source": [
    "stintInformation.query('driver_number == 1 or driver_number == 11')"
   ]
  },
  {
   "cell_type": "code",
   "execution_count": null,
   "id": "6becac40",
   "metadata": {},
   "outputs": [],
   "source": [
    "getinfolonglaps(jointables,1,'Red Bull Racing')"
   ]
  },
  {
   "cell_type": "code",
   "execution_count": null,
   "id": "3b201c85",
   "metadata": {},
   "outputs": [],
   "source": [
    "getinfolonglaps(jointables,11,'Red Bull Racing')"
   ]
  },
  {
   "cell_type": "markdown",
   "id": "dbf6c06d",
   "metadata": {},
   "source": [
    "#### Ferrari"
   ]
  },
  {
   "cell_type": "code",
   "execution_count": null,
   "id": "0fc025db",
   "metadata": {},
   "outputs": [],
   "source": [
    "stintInformation.query('driver_number == 16 or driver_number == 55')"
   ]
  },
  {
   "cell_type": "code",
   "execution_count": null,
   "id": "4cfdfa26",
   "metadata": {},
   "outputs": [],
   "source": [
    "getinfolonglaps(jointables,16,'Ferrari')"
   ]
  },
  {
   "cell_type": "code",
   "execution_count": null,
   "id": "1e761072",
   "metadata": {},
   "outputs": [],
   "source": [
    "getinfolonglaps(jointables,55,'Ferrari')"
   ]
  },
  {
   "cell_type": "markdown",
   "id": "aa461202",
   "metadata": {},
   "source": [
    "#### Mercedes"
   ]
  },
  {
   "cell_type": "code",
   "execution_count": null,
   "id": "5dcdb31e",
   "metadata": {},
   "outputs": [],
   "source": [
    "stintInformation.query('driver_number == 63 or driver_number == 44')"
   ]
  },
  {
   "cell_type": "code",
   "execution_count": null,
   "id": "650c5395",
   "metadata": {},
   "outputs": [],
   "source": [
    "getinfolonglaps(jointables,63,'Mercedes')"
   ]
  },
  {
   "cell_type": "code",
   "execution_count": null,
   "id": "5af4e925",
   "metadata": {},
   "outputs": [],
   "source": [
    "getinfolonglaps(jointables,44,'Mercedes')"
   ]
  },
  {
   "cell_type": "markdown",
   "id": "ab6f87b8",
   "metadata": {},
   "source": [
    "#### Aston Martin"
   ]
  },
  {
   "cell_type": "code",
   "execution_count": null,
   "id": "a6c2953d",
   "metadata": {},
   "outputs": [],
   "source": [
    "stintInformation.query('driver_number == 14 or driver_number == 18')"
   ]
  },
  {
   "cell_type": "code",
   "execution_count": null,
   "id": "9aabaa16",
   "metadata": {},
   "outputs": [],
   "source": [
    "getinfolonglaps(jointables,14,'Aston Martin')"
   ]
  },
  {
   "cell_type": "code",
   "execution_count": null,
   "id": "17cd541a",
   "metadata": {},
   "outputs": [],
   "source": [
    "getinfolonglaps(jointables,18,'Aston Martin')"
   ]
  },
  {
   "cell_type": "markdown",
   "id": "4472fef0",
   "metadata": {},
   "source": [
    "#### McLaren"
   ]
  },
  {
   "cell_type": "code",
   "execution_count": null,
   "id": "bd8f7de2",
   "metadata": {},
   "outputs": [],
   "source": [
    "stintInformation.query('driver_number == 4 or driver_number == 81')"
   ]
  },
  {
   "cell_type": "code",
   "execution_count": null,
   "id": "0a930600",
   "metadata": {},
   "outputs": [],
   "source": [
    "getinfolonglaps(jointables,81,'McLaren')"
   ]
  },
  {
   "cell_type": "code",
   "execution_count": null,
   "id": "a8054d96",
   "metadata": {},
   "outputs": [],
   "source": [
    "getinfolonglaps(jointables,4,'McLaren')"
   ]
  },
  {
   "cell_type": "markdown",
   "id": "f2e1357b",
   "metadata": {},
   "source": [
    "#### RB"
   ]
  },
  {
   "cell_type": "code",
   "execution_count": null,
   "id": "83f5345d",
   "metadata": {},
   "outputs": [],
   "source": [
    "stintInformation.query('driver_number == 3 or driver_number == 22')"
   ]
  },
  {
   "cell_type": "code",
   "execution_count": null,
   "id": "63c8b1a3",
   "metadata": {},
   "outputs": [],
   "source": [
    "getinfolonglaps(jointables,3,'RB')"
   ]
  },
  {
   "cell_type": "code",
   "execution_count": null,
   "id": "ae24fe00",
   "metadata": {},
   "outputs": [],
   "source": [
    "getinfolonglaps(jointables,22,'RB')"
   ]
  },
  {
   "cell_type": "markdown",
   "id": "e9636d36",
   "metadata": {},
   "source": [
    "#### Williams"
   ]
  },
  {
   "cell_type": "code",
   "execution_count": null,
   "id": "1e9c8d78",
   "metadata": {},
   "outputs": [],
   "source": [
    "stintInformation.query('driver_number == 2 or driver_number == 23')"
   ]
  },
  {
   "cell_type": "code",
   "execution_count": null,
   "id": "586c8303",
   "metadata": {},
   "outputs": [],
   "source": [
    "getinfolonglaps(jointables,2,'Williams')"
   ]
  },
  {
   "cell_type": "code",
   "execution_count": null,
   "id": "5a3deb8c",
   "metadata": {},
   "outputs": [],
   "source": [
    "getinfolonglaps(jointables,23,'Williams')"
   ]
  },
  {
   "cell_type": "markdown",
   "id": "03bd6e1d",
   "metadata": {},
   "source": [
    "#### Kick Sauber"
   ]
  },
  {
   "cell_type": "code",
   "execution_count": null,
   "id": "93345a79",
   "metadata": {},
   "outputs": [],
   "source": [
    "stintInformation.query('driver_number == 24 or driver_number == 77')"
   ]
  },
  {
   "cell_type": "code",
   "execution_count": null,
   "id": "f2ae1bfb",
   "metadata": {},
   "outputs": [],
   "source": [
    "getinfolonglaps(jointables,24,'Kick Sauber')"
   ]
  },
  {
   "cell_type": "code",
   "execution_count": null,
   "id": "10f0c97a",
   "metadata": {},
   "outputs": [],
   "source": [
    "getinfolonglaps(jointables,77,'Kick Sauber')"
   ]
  },
  {
   "cell_type": "markdown",
   "id": "6ebd315c",
   "metadata": {},
   "source": [
    "#### Alpine"
   ]
  },
  {
   "cell_type": "code",
   "execution_count": null,
   "id": "b521f8f0",
   "metadata": {},
   "outputs": [],
   "source": [
    "stintInformation.query('driver_number == 10 or driver_number == 31')"
   ]
  },
  {
   "cell_type": "code",
   "execution_count": null,
   "id": "6186fc80",
   "metadata": {},
   "outputs": [],
   "source": [
    "getinfolonglaps(jointables,10,'Alpine')"
   ]
  },
  {
   "cell_type": "code",
   "execution_count": null,
   "id": "ae1fe92e",
   "metadata": {},
   "outputs": [],
   "source": [
    "getinfolonglaps(jointables,31,'Alpine')"
   ]
  },
  {
   "cell_type": "markdown",
   "id": "3d797b79",
   "metadata": {},
   "source": [
    "#### Haas"
   ]
  },
  {
   "cell_type": "code",
   "execution_count": null,
   "id": "2bcecda2",
   "metadata": {},
   "outputs": [],
   "source": [
    "stintInformation.query('driver_number == 20 or driver_number == 27')"
   ]
  },
  {
   "cell_type": "code",
   "execution_count": null,
   "id": "9cf533a2",
   "metadata": {},
   "outputs": [],
   "source": [
    "getinfolonglaps(jointables,20,'Haas')"
   ]
  },
  {
   "cell_type": "code",
   "execution_count": null,
   "id": "091459f8",
   "metadata": {},
   "outputs": [],
   "source": [
    "getinfolonglaps(jointables,27,'Haas')"
   ]
  },
  {
   "cell_type": "markdown",
   "id": "2757baec",
   "metadata": {},
   "source": [
    "## Qualyfing"
   ]
  },
  {
   "cell_type": "markdown",
   "id": "2f94034c",
   "metadata": {},
   "source": [
    "### Set up\n",
    "First of all, it is neccesary to obtain the data about the qualyfing\n",
    "#### Race control\n",
    "This section has been added in order to know which laps has been deleted and knowing what happened on track during this session as well."
   ]
  },
  {
   "cell_type": "code",
   "execution_count": null,
   "id": "3da27d1e",
   "metadata": {},
   "outputs": [],
   "source": [
    "url = 'https://api.openf1.org/v1/race_control?'\n",
    "session_key = 'session_key=9664'\n",
    "urltotal = url+session_key\n",
    "\n",
    "response = urlopen(urltotal)\n",
    "data = json.loads(response.read().decode('utf-8'))\n",
    "race_control = pd.DataFrame(data)\n",
    "race_control"
   ]
  },
  {
   "cell_type": "markdown",
   "id": "98ac48ca",
   "metadata": {},
   "source": [
    "### Laps"
   ]
  },
  {
   "cell_type": "code",
   "execution_count": null,
   "id": "1b0e2622",
   "metadata": {},
   "outputs": [],
   "source": [
    "url = 'https://api.openf1.org/v1/laps?'\n",
    "#session_key = 'session_key=9492'\n",
    "urltotal = url+session_key\n",
    "\n",
    "response = urlopen(urltotal)\n",
    "data = json.loads(response.read().decode('utf-8'))\n",
    "qualyfing = pd.DataFrame(data)\n",
    "qualyfing"
   ]
  },
  {
   "cell_type": "markdown",
   "id": "9eee2f3d",
   "metadata": {},
   "source": [
    "Lap times with track limits have to be deleted. So that, I searched inrace control dataset those laptimes not valids to be deleted from qualfing dataset. "
   ]
  },
  {
   "cell_type": "code",
   "execution_count": null,
   "id": "a60c397a",
   "metadata": {},
   "outputs": [],
   "source": [
    "qualyfing = qualyfing.drop(40)\n",
    "qualyfing = qualyfing.drop(49)\n",
    "qualyfing = qualyfing.drop(50)"
   ]
  },
  {
   "cell_type": "markdown",
   "id": "6327cd78",
   "metadata": {},
   "source": [
    "As the qualyfing session has been without weather changes, I will take the fastest lap as a reference to obtain all the competitive laps."
   ]
  },
  {
   "cell_type": "code",
   "execution_count": null,
   "id": "3ec6c84e",
   "metadata": {},
   "outputs": [],
   "source": [
    "bestlap = qualyfing.loc[qualyfing.groupby(['driver_number'])['lap_duration'].idxmin()].sort_values(by=['lap_duration'],ascending=True)\n",
    "bestlap[0:1]"
   ]
  },
  {
   "cell_type": "markdown",
   "id": "92268f05",
   "metadata": {},
   "source": [
    "In this case, the fastest lap is 93.66 seconds (1.33.66= so that to obtain the competitve laps the fastest lap will be multiplied by 1.07 (100.2162 seconds) due to, according to the rules all the drivers have to do unless one lap within this gap."
   ]
  },
  {
   "cell_type": "code",
   "execution_count": null,
   "id": "cef25014",
   "metadata": {},
   "outputs": [],
   "source": [
    "competitiveLaps = qualyfing.query(\"is_pit_out_lap == False and lap_duration < 100.2162\")\n",
    "competitiveLaps"
   ]
  },
  {
   "cell_type": "code",
   "execution_count": null,
   "id": "b230599e",
   "metadata": {},
   "outputs": [],
   "source": [
    "drivers_list = list(competitiveLaps['driver_number'].unique())\n",
    "newdataset = pd.DataFrame()\n",
    "for driver in drivers_list:\n",
    "    newdataset =obtain_information_qualy(driver,competitiveLaps,newdataset)\n",
    "jointables = pd.merge(newdataset,drivers,on=['driver_number'])\n",
    "jointables.sort_values(by=['fastest_lap'],ascending=True)"
   ]
  },
  {
   "cell_type": "markdown",
   "id": "0829a4fe",
   "metadata": {},
   "source": [
    "#### Best lap per driver compared with the best lap of the session"
   ]
  },
  {
   "cell_type": "code",
   "execution_count": null,
   "id": "7f16ecbc",
   "metadata": {},
   "outputs": [],
   "source": [
    "obtainchart(\"name_acronym\",\"delta\",jointables.sort_values(by=['fastest_lap'],ascending=True))"
   ]
  },
  {
   "cell_type": "markdown",
   "id": "b2f5c955",
   "metadata": {},
   "source": [
    "#### Speed trap pace per driver"
   ]
  },
  {
   "cell_type": "code",
   "execution_count": null,
   "id": "2dde2165",
   "metadata": {},
   "outputs": [],
   "source": [
    "top_speed = jointables.loc[jointables.groupby(['name_acronym'])['i1_speed'].idxmax()].sort_values(by=['i1_speed'],ascending=False)\n",
    "obtainchart(\"name_acronym\",\"i1_speed\",top_speed)"
   ]
  },
  {
   "cell_type": "code",
   "execution_count": null,
   "id": "d8d81a23",
   "metadata": {},
   "outputs": [],
   "source": [
    "top_speed = jointables.loc[jointables.groupby(['name_acronym'])['i2_speed'].idxmax()].sort_values(by=['i2_speed'],ascending=False)\n",
    "obtainchart(\"name_acronym\",\"i2_speed\",top_speed)"
   ]
  },
  {
   "cell_type": "code",
   "execution_count": null,
   "id": "d9cbae95",
   "metadata": {},
   "outputs": [],
   "source": [
    "top_speed = jointables.loc[jointables.groupby(['name_acronym'])['st_speed'].idxmax()].sort_values(by=['st_speed'],ascending=False)\n",
    "obtainchart(\"name_acronym\",\"st_speed\",top_speed)"
   ]
  },
  {
   "cell_type": "markdown",
   "id": "152773b3",
   "metadata": {},
   "source": [
    "#### Speed trap pace per team"
   ]
  },
  {
   "cell_type": "code",
   "execution_count": null,
   "id": "9bf0a51f",
   "metadata": {},
   "outputs": [],
   "source": [
    "top_speed = jointables.loc[jointables.groupby(['team_name'])['i1_speed'].idxmax()].sort_values(by=['i1_speed'],ascending=False)\n",
    "obtainchart(\"team_name\",\"i1_speed\",top_speed)"
   ]
  },
  {
   "cell_type": "code",
   "execution_count": null,
   "id": "8c8f7353",
   "metadata": {},
   "outputs": [],
   "source": [
    "top_speed = jointables.loc[jointables.groupby(['team_name'])['i2_speed'].idxmax()].sort_values(by=['i2_speed'],ascending=False)\n",
    "obtainchart(\"team_name\",\"i2_speed\",top_speed)"
   ]
  },
  {
   "cell_type": "code",
   "execution_count": null,
   "id": "e8a86ca5",
   "metadata": {},
   "outputs": [],
   "source": [
    "top_speed = jointables.loc[jointables.groupby(['team_name'])['st_speed'].idxmax()].sort_values(by=['st_speed'],ascending=False)\n",
    "obtainchart(\"team_name\",\"st_speed\",top_speed)"
   ]
  },
  {
   "cell_type": "code",
   "execution_count": null,
   "id": "bf4ea06d",
   "metadata": {},
   "outputs": [],
   "source": [
    "mergequaly = pd.merge(competitiveLaps,drivers,on=['driver_number'])\n",
    "mergequaly"
   ]
  },
  {
   "cell_type": "code",
   "execution_count": null,
   "id": "c25f46af",
   "metadata": {},
   "outputs": [],
   "source": [
    "# In order to know when each session finished, race control dataset will be consulted.\n",
    "maximumDateQ1 = \"date_start <'2024-04-20T07:25:00'\"\n",
    "maximumDateQ2 = \"date_start <'2024-04-20T08:00:00' and date_start >'2024-04-20T07:25:00'\"\n",
    "maximumDateQ3 = \"date_start >'2024-04-20T08:00:00'\""
   ]
  },
  {
   "cell_type": "markdown",
   "id": "5434525a",
   "metadata": {},
   "source": [
    "### Qualyfing 1"
   ]
  },
  {
   "cell_type": "code",
   "execution_count": null,
   "id": "3d545ddd",
   "metadata": {},
   "outputs": [],
   "source": [
    "q1Data = obtainInfoAboutQualySession(mergequaly,maximumDateQ1).query(\"isFastestLap == True\").sort_values(by=['lap_duration'],ascending=True)\n",
    "q1Data"
   ]
  },
  {
   "cell_type": "markdown",
   "id": "745d5dd6",
   "metadata": {},
   "source": [
    "##### Comparaison with driver at risk\n",
    "In this section with the fastest lap done for each driver (laptimes deleted will not be taken into account to do this analysis) it will be a comparaison in order to see where the driver eliminated lost/gain time in their fastest lap."
   ]
  },
  {
   "cell_type": "code",
   "execution_count": null,
   "id": "90148d72",
   "metadata": {},
   "outputs": [],
   "source": [
    "#Reference\n",
    "P15 = q1Data[14:15]\n",
    "P15"
   ]
  },
  {
   "cell_type": "code",
   "execution_count": null,
   "id": "bfdb23e5",
   "metadata": {},
   "outputs": [],
   "source": [
    "print(\n",
    "\"Driver:\",P15.full_name.to_string(index=False),\n",
    "\"Sector 1: \",P15.duration_sector_1.to_string(index=False),\n",
    "\"Sector 2: \",P15.duration_sector_2.to_string(index=False),\n",
    "\"Sector 3: \",P15.duration_sector_3.to_string(index=False)\n",
    ")"
   ]
  },
  {
   "cell_type": "code",
   "execution_count": null,
   "id": "ea1695c8",
   "metadata": {},
   "outputs": [],
   "source": [
    "newdataset2 = pd.DataFrame()\n",
    "for index,row in q1Data[15::].iterrows():\n",
    "    newdataset2 = obtain_difference_regard_reference(row,P15,newdataset2)\n",
    "\n",
    "newdataset2"
   ]
  },
  {
   "cell_type": "code",
   "execution_count": null,
   "id": "9239f125",
   "metadata": {},
   "outputs": [],
   "source": [
    "pd.DataFrame(q1Data.groupby(\"name_acronym\")['duration_sector_1'].min().sort_values(ascending=True))"
   ]
  },
  {
   "cell_type": "code",
   "execution_count": null,
   "id": "d8c70026",
   "metadata": {},
   "outputs": [],
   "source": [
    "pd.DataFrame(q1Data.groupby(\"name_acronym\")['duration_sector_2'].min().sort_values(ascending=True))"
   ]
  },
  {
   "cell_type": "code",
   "execution_count": null,
   "id": "2f134a15",
   "metadata": {},
   "outputs": [],
   "source": [
    "pd.DataFrame(q1Data.groupby(\"name_acronym\")['duration_sector_3'].min().sort_values(ascending=True))"
   ]
  },
  {
   "cell_type": "code",
   "execution_count": null,
   "id": "798eba05",
   "metadata": {},
   "outputs": [],
   "source": [
    "q2Data = obtainInfoAboutQualySession(mergequaly,maximumDateQ2).query(\"isFastestLap == True\").sort_values(by=['lap_duration'],ascending=True)\n",
    "q2Data"
   ]
  },
  {
   "cell_type": "markdown",
   "id": "0a9b59e1",
   "metadata": {},
   "source": [
    "##### Comparaison with driver at risk\n",
    "In this section with the fastest lap done for each driver (laptimes deleted will not be taken into account to do this analysis) it will be a comparaison in order to see where the driver eliminated lost/gain time in their fastest lap."
   ]
  },
  {
   "cell_type": "code",
   "execution_count": null,
   "id": "597b55fb",
   "metadata": {},
   "outputs": [],
   "source": [
    "#Reference\n",
    "P10 = q2Data[9:10]\n",
    "print(\n",
    "\"Driver:\",P10.full_name.to_string(index=False),\n",
    "\"Sector 1: \",P10.duration_sector_1.to_string(index=False),\n",
    "\"Sector 2: \",P10.duration_sector_2.to_string(index=False),\n",
    "\"Sector 3: \",P10.duration_sector_3.to_string(index=False)\n",
    ")"
   ]
  },
  {
   "cell_type": "code",
   "execution_count": null,
   "id": "8d2bc16e",
   "metadata": {},
   "outputs": [],
   "source": [
    "newdataset2 = pd.DataFrame()\n",
    "for index,row in q2Data[10::].iterrows():\n",
    "    newdataset2 = obtain_difference_regard_reference(row,P10,newdataset2)\n",
    "\n",
    "newdataset2"
   ]
  },
  {
   "cell_type": "markdown",
   "id": "5a04e15b",
   "metadata": {},
   "source": [
    "#### Best sector per driver"
   ]
  },
  {
   "cell_type": "code",
   "execution_count": null,
   "id": "39f4818a",
   "metadata": {},
   "outputs": [],
   "source": [
    "pd.DataFrame(q2Data.groupby(\"name_acronym\")['duration_sector_1'].min().sort_values(ascending=True))"
   ]
  },
  {
   "cell_type": "code",
   "execution_count": null,
   "id": "d06f5584",
   "metadata": {},
   "outputs": [],
   "source": [
    "pd.DataFrame(q2Data.groupby(\"name_acronym\")['duration_sector_2'].min().sort_values(ascending=True))"
   ]
  },
  {
   "cell_type": "code",
   "execution_count": null,
   "id": "c32b3da2",
   "metadata": {},
   "outputs": [],
   "source": [
    "pd.DataFrame(q2Data.groupby(\"name_acronym\")['duration_sector_3'].min().sort_values(ascending=True))"
   ]
  },
  {
   "cell_type": "markdown",
   "id": "08cf7666",
   "metadata": {},
   "source": [
    "#### Qualyfing 3"
   ]
  },
  {
   "cell_type": "code",
   "execution_count": null,
   "id": "2c4a0fea",
   "metadata": {},
   "outputs": [],
   "source": [
    "q3Data = obtainInfoAboutQualySession(mergequaly,maximumDateQ3).query(\"isFastestLap == True\").sort_values(by=['lap_duration'],ascending=True)\n",
    "q3Data"
   ]
  },
  {
   "cell_type": "markdown",
   "id": "02686031",
   "metadata": {},
   "source": [
    "##### Comparaison with poleman\n",
    "In this section with the fastest lap done for each driver (laptimes deleted will not be taken into account to do this analysis) it will be a comparaison in order to see where the driver eliminated lost/gain time in their fastest lap."
   ]
  },
  {
   "cell_type": "code",
   "execution_count": null,
   "id": "fa0ba300",
   "metadata": {},
   "outputs": [],
   "source": [
    "#Reference\n",
    "P1 = q3Data[:1]\n",
    "print(\n",
    "\"Driver:\",P1.full_name.to_string(index=False),\n",
    "\"Sector 1: \",P1.duration_sector_1.to_string(index=False),\n",
    "\"Sector 2: \",P1.duration_sector_2.to_string(index=False),\n",
    "\"Sector 3: \",P1.duration_sector_3.to_string(index=False)\n",
    ")"
   ]
  },
  {
   "cell_type": "code",
   "execution_count": null,
   "id": "e25be9a2",
   "metadata": {},
   "outputs": [],
   "source": [
    "newdataset2 = pd.DataFrame()\n",
    "for index,row in q3Data[1::].iterrows():\n",
    "    newdataset2 = obtain_difference_regard_reference(row,P1,newdataset2)\n",
    "newdataset2"
   ]
  },
  {
   "cell_type": "markdown",
   "id": "207a1a23",
   "metadata": {},
   "source": [
    "#### Best sector per driver"
   ]
  },
  {
   "cell_type": "code",
   "execution_count": null,
   "id": "a88e6244",
   "metadata": {},
   "outputs": [],
   "source": [
    "pd.DataFrame(q3Data.groupby(\"name_acronym\")['duration_sector_1'].min().sort_values(ascending=True))"
   ]
  },
  {
   "cell_type": "code",
   "execution_count": null,
   "id": "3bdec3ce",
   "metadata": {},
   "outputs": [],
   "source": [
    "pd.DataFrame(q3Data.groupby(\"name_acronym\")['duration_sector_2'].min().sort_values(ascending=True))"
   ]
  },
  {
   "cell_type": "code",
   "execution_count": null,
   "id": "7d4099ce",
   "metadata": {},
   "outputs": [],
   "source": [
    "pd.DataFrame(q3Data.groupby(\"name_acronym\")['duration_sector_3'].min().sort_values(ascending=True))"
   ]
  },
  {
   "cell_type": "code",
   "execution_count": null,
   "id": "b87fc655",
   "metadata": {},
   "outputs": [],
   "source": [
    "pd.DataFrame(mergequaly.groupby(\"name_acronym\")['duration_sector_1'].min().sort_values(ascending=True))"
   ]
  },
  {
   "cell_type": "code",
   "execution_count": null,
   "id": "fb40301a",
   "metadata": {},
   "outputs": [],
   "source": [
    "pd.DataFrame(mergequaly.groupby(\"name_acronym\")['duration_sector_2'].min().sort_values(ascending=True))"
   ]
  },
  {
   "cell_type": "code",
   "execution_count": null,
   "id": "8e6eb233",
   "metadata": {},
   "outputs": [],
   "source": [
    "pd.DataFrame(mergequaly.groupby(\"name_acronym\")['duration_sector_3'].min().sort_values(ascending=True))"
   ]
  },
  {
   "cell_type": "markdown",
   "id": "e62792d0",
   "metadata": {},
   "source": [
    "## Race"
   ]
  },
  {
   "cell_type": "code",
   "execution_count": null,
   "id": "d58df579",
   "metadata": {},
   "outputs": [],
   "source": [
    "url = 'https://api.openf1.org/v1/laps?'\n",
    "session_key = 'session_key=9673'\n",
    "urltotal = url+session_key\n",
    "\n",
    "response = urlopen(urltotal)\n",
    "data = json.loads(response.read().decode('utf-8'))\n",
    "race = pd.DataFrame(data)\n",
    "race"
   ]
  },
  {
   "cell_type": "markdown",
   "id": "95866744",
   "metadata": {},
   "source": [
    "### Stints"
   ]
  },
  {
   "cell_type": "code",
   "execution_count": null,
   "id": "55a79b73",
   "metadata": {},
   "outputs": [],
   "source": [
    "#Stints\n",
    "url = 'https://api.openf1.org/v1/stints?'\n",
    "\n",
    "urltotal = url+session_key\n",
    "\n",
    "response = urlopen(urltotal)\n",
    "data = json.loads(response.read().decode('utf-8'))\n",
    "stintInformation = pd.DataFrame(data)\n",
    "stintInformation"
   ]
  },
  {
   "cell_type": "code",
   "execution_count": null,
   "id": "acd44b17",
   "metadata": {},
   "outputs": [],
   "source": [
    "stintsDataFrame = pd.DataFrame()\n",
    "for index,row in stintInformation.iterrows():\n",
    "    number_driver = row.driver_number\n",
    "    acronym_driver = drivers.query('driver_number == @number_driver').name_acronym.to_string(index=False)\n",
    "    full_name = drivers.query('driver_number == @number_driver').full_name.to_string(index=False)\n",
    "    team_name = drivers.query('driver_number == @number_driver').team_name.to_string(index=False)\n",
    "    if row.lap_start != row.lap_end:\n",
    "        contador = row.lap_start\n",
    "        while contador <= row.lap_end :\n",
    "            new_row = {'driver_number':row.driver_number,'compound':row.compound,'lap_number':contador,'name_acronym':acronym_driver,'full_name':full_name,'team_name':team_name}\n",
    "            #stintsDataFrame=stintsDataFrame.append(new_row, ignore_index=True)\n",
    "            stintsDataFrame = pd.concat([stintsDataFrame, pd.DataFrame([new_row])], ignore_index=True)\n",
    "            contador+=1\n",
    "    else:\n",
    "    \n",
    "        new_row = {'driver_number':row.driver_number,'compound':row.compound,'lap_number':row.lap_start,'name_acronym':acronym_driver,'full_name':full_name,'team_name':team_name}\n",
    "        #stintsDataFrame= stintsDataFrame.append(new_row, ignore_index=True)\n",
    "        stintsDataFrame =pd.concat([stintsDataFrame, pd.DataFrame([new_row])], ignore_index=True)"
   ]
  },
  {
   "cell_type": "code",
   "execution_count": null,
   "id": "d94447de",
   "metadata": {},
   "outputs": [],
   "source": [
    "stintsDataFrame"
   ]
  },
  {
   "cell_type": "markdown",
   "id": "69e58ea4",
   "metadata": {},
   "source": [
    "### Drivers"
   ]
  },
  {
   "cell_type": "code",
   "execution_count": null,
   "id": "fc9fa4a9",
   "metadata": {},
   "outputs": [],
   "source": [
    "drivers"
   ]
  },
  {
   "cell_type": "code",
   "execution_count": null,
   "id": "5c3404ac",
   "metadata": {},
   "outputs": [],
   "source": [
    "jointables = pd.merge(race,stintsDataFrame,on=['lap_number','driver_number'])\n",
    "jointables"
   ]
  },
  {
   "cell_type": "markdown",
   "id": "19de7a88",
   "metadata": {},
   "source": [
    "### Obtain data tyres"
   ]
  },
  {
   "cell_type": "code",
   "execution_count": null,
   "id": "df706e97",
   "metadata": {},
   "outputs": [],
   "source": [
    "obtain_data_tyres(jointables,'MEDIUM',True)"
   ]
  },
  {
   "cell_type": "code",
   "execution_count": null,
   "id": "a5cb9baf",
   "metadata": {},
   "outputs": [],
   "source": [
    "obtain_data_tyres(jointables,'SOFT',True)"
   ]
  },
  {
   "cell_type": "code",
   "execution_count": null,
   "id": "52584ebd",
   "metadata": {},
   "outputs": [],
   "source": [
    "obtain_data_tyres(jointables,'HARD',True)"
   ]
  },
  {
   "cell_type": "code",
   "execution_count": null,
   "id": "ff61b1f3",
   "metadata": {},
   "outputs": [],
   "source": [
    "race_pace = pd.DataFrame(jointables.query(\"is_pit_out_lap == False  and lap_duration <= 105\").dropna().groupby(\"team_name\")['lap_duration'].mean().sort_values(ascending=True))\n",
    "race_pace"
   ]
  },
  {
   "cell_type": "code",
   "execution_count": null,
   "id": "0dcdd033",
   "metadata": {},
   "outputs": [],
   "source": [
    "def obtain_race_pace(dataset,array):\n",
    "    fastest_lap = dataset.lap_duration.min()\n",
    "    for row in dataset.iterrows():\n",
    "        lap = row[1][0]\n",
    "        delta = lap-fastest_lap\n",
    "        array.append(delta)\n",
    "    return array\n",
    "arr= obtain_race_pace(race_pace,[])\n",
    "race_pace.insert(1,'delta',arr)"
   ]
  },
  {
   "cell_type": "code",
   "execution_count": null,
   "id": "8decd4a6",
   "metadata": {},
   "outputs": [],
   "source": [
    "race_pace"
   ]
  },
  {
   "cell_type": "code",
   "execution_count": null,
   "id": "2dc83bc1",
   "metadata": {},
   "outputs": [],
   "source": [
    "race_pace = pd.DataFrame(jointables.query(\"is_pit_out_lap == False  and lap_duration <= 105\").dropna().groupby(\"team_name\")['duration_sector_1'].mean().sort_values(ascending=True))\n",
    "race_pace"
   ]
  },
  {
   "cell_type": "code",
   "execution_count": null,
   "id": "8a28bc0e",
   "metadata": {},
   "outputs": [],
   "source": [
    "race_pace = pd.DataFrame(jointables.query(\"is_pit_out_lap == False  and lap_duration <= 105\").dropna().groupby(\"team_name\")['duration_sector_2'].mean().sort_values(ascending=True))\n",
    "race_pace"
   ]
  },
  {
   "cell_type": "code",
   "execution_count": null,
   "id": "b4de5895",
   "metadata": {},
   "outputs": [],
   "source": [
    "race_pace = pd.DataFrame(jointables.query(\"is_pit_out_lap == False  and lap_duration <= 105\").dropna().groupby(\"team_name\")['duration_sector_3'].mean().sort_values(ascending=True))\n",
    "race_pace"
   ]
  },
  {
   "cell_type": "markdown",
   "id": "67998555",
   "metadata": {},
   "source": [
    "### Comparaison beetween drivers\n",
    "I created this section to know the drivers racepace to compare beetween team mates who were the fastest. In general, we can see that the difference is among three or four tenths except in Aston Martin case where the difference beetween them is in 9 tenths."
   ]
  },
  {
   "cell_type": "markdown",
   "id": "098c4cc4",
   "metadata": {},
   "source": [
    "#### Red Bull Racing"
   ]
  },
  {
   "cell_type": "code",
   "execution_count": null,
   "id": "36f5211e",
   "metadata": {},
   "outputs": [],
   "source": [
    "race.query(\"driver_number== 1 and lap_duration <=105 and lap_duration > 94\").lap_duration.mean()"
   ]
  },
  {
   "cell_type": "code",
   "execution_count": null,
   "id": "19279e8a",
   "metadata": {},
   "outputs": [],
   "source": [
    "race.query(\"driver_number== 11 and lap_duration <=105 and lap_duration > 94\").lap_duration.mean()"
   ]
  },
  {
   "cell_type": "markdown",
   "id": "0d160204",
   "metadata": {},
   "source": [
    "#### Ferrari"
   ]
  },
  {
   "cell_type": "code",
   "execution_count": null,
   "id": "f8d5090b",
   "metadata": {},
   "outputs": [],
   "source": [
    "race.query(\"driver_number== 16 and lap_duration <=105 and lap_duration > 94\").lap_duration.mean()"
   ]
  },
  {
   "cell_type": "code",
   "execution_count": null,
   "id": "6e18bda8",
   "metadata": {},
   "outputs": [],
   "source": [
    "race.query(\"driver_number== 55 and lap_duration <=105 and lap_duration > 94\").lap_duration.mean()"
   ]
  },
  {
   "cell_type": "markdown",
   "id": "b6026ac4",
   "metadata": {},
   "source": [
    "#### Mercedes"
   ]
  },
  {
   "cell_type": "code",
   "execution_count": null,
   "id": "73c3fcc5",
   "metadata": {},
   "outputs": [],
   "source": [
    "race.query(\"driver_number== 44 and lap_duration <=105 and lap_duration > 94\").lap_duration.mean()"
   ]
  },
  {
   "cell_type": "code",
   "execution_count": null,
   "id": "6c5251cb",
   "metadata": {},
   "outputs": [],
   "source": [
    "race.query(\"driver_number== 63 and lap_duration <=105 and lap_duration > 94\").lap_duration.mean()"
   ]
  },
  {
   "cell_type": "markdown",
   "id": "ee1511f7",
   "metadata": {},
   "source": [
    "#### McLaren"
   ]
  },
  {
   "cell_type": "code",
   "execution_count": null,
   "id": "afc3bab0",
   "metadata": {},
   "outputs": [],
   "source": [
    "race.query(\"driver_number== 4 and lap_duration <=105 and lap_duration > 94\").lap_duration.mean()"
   ]
  },
  {
   "cell_type": "code",
   "execution_count": null,
   "id": "ed52bba1",
   "metadata": {},
   "outputs": [],
   "source": [
    "race.query(\"driver_number== 81 and lap_duration <=105 and lap_duration > 94\").lap_duration.mean()"
   ]
  },
  {
   "cell_type": "markdown",
   "id": "f0e277c6",
   "metadata": {},
   "source": [
    "#### Aston Martin"
   ]
  },
  {
   "cell_type": "code",
   "execution_count": null,
   "id": "5b1b3b02",
   "metadata": {},
   "outputs": [],
   "source": [
    "race.query(\"driver_number== 14 and lap_duration <=105 and lap_duration > 94\").lap_duration.mean()"
   ]
  },
  {
   "cell_type": "code",
   "execution_count": null,
   "id": "ed4c2133",
   "metadata": {},
   "outputs": [],
   "source": [
    "race.query(\"driver_number== 18 and lap_duration <=105 and lap_duration > 94\").lap_duration.mean()"
   ]
  },
  {
   "cell_type": "markdown",
   "id": "7666418b",
   "metadata": {},
   "source": [
    "##### RB"
   ]
  },
  {
   "cell_type": "code",
   "execution_count": null,
   "id": "6a4c43b1",
   "metadata": {},
   "outputs": [],
   "source": [
    "race.query(\"driver_number== 22 and lap_duration <=105 and lap_duration > 94\").lap_duration.mean()"
   ]
  },
  {
   "cell_type": "code",
   "execution_count": null,
   "id": "9f8a3b16",
   "metadata": {},
   "outputs": [],
   "source": [
    "race.query(\"driver_number== 3 and lap_duration <=105 and lap_duration > 94\").lap_duration.mean()"
   ]
  },
  {
   "cell_type": "markdown",
   "id": "da5d1d7e",
   "metadata": {},
   "source": [
    "#### Haas"
   ]
  },
  {
   "cell_type": "code",
   "execution_count": null,
   "id": "23a6a35c",
   "metadata": {},
   "outputs": [],
   "source": [
    "race.query(\"driver_number== 20 and lap_duration <=105 and lap_duration > 94\").lap_duration.mean()"
   ]
  },
  {
   "cell_type": "code",
   "execution_count": null,
   "id": "7198f766",
   "metadata": {},
   "outputs": [],
   "source": [
    "race.query(\"driver_number== 27 and lap_duration <=105 and lap_duration > 94\").lap_duration.mean()"
   ]
  },
  {
   "cell_type": "markdown",
   "id": "6131cf14",
   "metadata": {},
   "source": [
    "#### Williams"
   ]
  },
  {
   "cell_type": "code",
   "execution_count": null,
   "id": "6bc68004",
   "metadata": {},
   "outputs": [],
   "source": [
    "race.query(\"driver_number== 2 and lap_duration <=105 and lap_duration > 94\").lap_duration.mean()"
   ]
  },
  {
   "cell_type": "code",
   "execution_count": null,
   "id": "a95d5065",
   "metadata": {},
   "outputs": [],
   "source": [
    "race.query(\"driver_number== 23 and lap_duration <=105 and lap_duration > 94\").lap_duration.mean()"
   ]
  },
  {
   "cell_type": "markdown",
   "id": "e7878056",
   "metadata": {},
   "source": [
    "#### Kick Sauber"
   ]
  },
  {
   "cell_type": "code",
   "execution_count": null,
   "id": "bd8b7230",
   "metadata": {},
   "outputs": [],
   "source": [
    "race.query(\"driver_number== 77 and lap_duration <=105 and lap_duration > 94\").lap_duration.mean()"
   ]
  },
  {
   "cell_type": "code",
   "execution_count": null,
   "id": "871f8124",
   "metadata": {},
   "outputs": [],
   "source": [
    "race.query(\"driver_number== 24 and lap_duration <=105 and lap_duration > 94\").lap_duration.mean()"
   ]
  },
  {
   "cell_type": "markdown",
   "id": "c27d3f0f",
   "metadata": {},
   "source": [
    "#### Alpine"
   ]
  },
  {
   "cell_type": "code",
   "execution_count": null,
   "id": "c8cb3484",
   "metadata": {},
   "outputs": [],
   "source": [
    "race.query(\"driver_number== 31 and lap_duration <=105 and lap_duration > 94\").lap_duration.mean()"
   ]
  },
  {
   "cell_type": "code",
   "execution_count": null,
   "id": "9bf1d284",
   "metadata": {},
   "outputs": [],
   "source": [
    "race.query(\"driver_number== 10 and lap_duration <=105 and lap_duration > 94\").lap_duration.mean()"
   ]
  },
  {
   "cell_type": "markdown",
   "id": "39341571",
   "metadata": {},
   "source": [
    "#### Degradation"
   ]
  },
  {
   "cell_type": "code",
   "execution_count": null,
   "id": "a92ca3e4",
   "metadata": {},
   "outputs": [],
   "source": []
  },
  {
   "cell_type": "code",
   "execution_count": null,
   "id": "9c32944a",
   "metadata": {},
   "outputs": [],
   "source": []
  },
  {
   "cell_type": "code",
   "execution_count": null,
   "id": "bd2c2bc4",
   "metadata": {},
   "outputs": [],
   "source": [
    "pitstoplist = list(stintInformation.query(\"driver_number == 55\").lap_start.values)\n",
    "pitstoplist\n",
    "dict_stint = {}\n",
    "for f in list(stintInformation.query(\"driver_number == 55 \").values):\n",
    "    # Stint number\n",
    "    print(f[2])\n",
    "    dict_stint[f[2]] = []\n",
    "    #Lap end\n",
    "    print(f[5])\n",
    "    # Compound\n",
    "    print(f[6])\n",
    "lapsXDriver = jointables.query(\"driver_number==55 \")\n",
    "mean = 0\n",
    "last_lap = 0\n",
    "contador = 0\n",
    "total = 0\n",
    "stint_number = 1\n",
    "for  index,row in lapsXDriver.iterrows():\n",
    "    # Valid laps\n",
    "    if row.lap_number > 1:\n",
    "        if row.lap_number in pitstoplist:\n",
    "            stint_number+=1\n",
    "        if row.lap_duration < 108:\n",
    "            dict_stint[stint_number].append(row.lap_duration)\n",
    "total = 0\n",
    "for key in dict_stint:\n",
    "    value = dict_stint[key]\n",
    "    if len(np.diff(value)) != 0:\n",
    "        print(np.diff(value))\n",
    "        valor = np.mean(np.diff(value))\n",
    "        print(valor)\n",
    "        total += valor\n",
    "   \n",
    "print(\"Mean degradation\",total)\n",
    "\n",
    "    "
   ]
  },
  {
   "cell_type": "markdown",
   "id": "92526d3a",
   "metadata": {},
   "source": [
    "### Pits"
   ]
  },
  {
   "cell_type": "code",
   "execution_count": null,
   "id": "1dead8cf",
   "metadata": {},
   "outputs": [],
   "source": [
    "\n",
    "url = 'https://api.openf1.org/v1/pit?'\n",
    "\n",
    "urltotal = url+session_key\n",
    "\n",
    "response = urlopen(urltotal)\n",
    "data = json.loads(response.read().decode('utf-8'))\n",
    "pits = pd.DataFrame(data)\n",
    "pits"
   ]
  },
  {
   "cell_type": "code",
   "execution_count": null,
   "id": "0f50192d",
   "metadata": {},
   "outputs": [],
   "source": [
    "jointables = pd.merge(drivers,pits,on=['driver_number']).query(\"pit_duration<180\")\n",
    "jointables\n",
    "pit_duration = pd.DataFrame(jointables.groupby('team_name')['pit_duration'].mean().sort_values(ascending=True))\n",
    "pit_duration"
   ]
  }
 ],
 "metadata": {
  "kernelspec": {
   "display_name": "Python 3 (ipykernel)",
   "language": "python",
   "name": "python3"
  },
  "language_info": {
   "codemirror_mode": {
    "name": "ipython",
    "version": 3
   },
   "file_extension": ".py",
   "mimetype": "text/x-python",
   "name": "python",
   "nbconvert_exporter": "python",
   "pygments_lexer": "ipython3",
   "version": "3.8.6"
  }
 },
 "nbformat": 4,
 "nbformat_minor": 5
}
