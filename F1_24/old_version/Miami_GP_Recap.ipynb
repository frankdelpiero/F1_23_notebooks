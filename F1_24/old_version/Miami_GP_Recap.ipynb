{
 "cells": [
  {
   "cell_type": "markdown",
   "metadata": {},
   "source": [
    "# Miami Grand Prix\n",
    "The Miami Grand Prix is a Formula One Grand Prix which was held for the first time during the 2022 season, with the event taking place at the Miami International Autodrome on a ten-year contract. "
   ]
  },
  {
   "cell_type": "code",
   "execution_count": null,
   "metadata": {},
   "outputs": [],
   "source": [
    "from urllib.request import urlopen\n",
    "import json\n",
    "import pandas as pd\n",
    "import numpy as np\n",
    "from matplotlib import pyplot as plt\n",
    "import seaborn as sns"
   ]
  },
  {
   "cell_type": "markdown",
   "metadata": {},
   "source": [
    "## A little recap about what happened last year\n",
    "Before to know what will happen in the grand prix, I consider that is neccesary to get to know what happened last year in order to have a reference to know what will happen this year in Miami.\n",
    "In this case, I decided to take qualyfing and race as a reference to try to predict with the data obtained in the free practice how the weekend will unfold."
   ]
  },
  {
   "cell_type": "code",
   "execution_count": null,
   "metadata": {},
   "outputs": [],
   "source": [
    "response = urlopen(\"https://api.openf1.org/v1/sessions?year=2023&country_code=USA&circuit_short_name=Miami\")\n",
    "data = json.loads(response.read().decode('utf-8'))\n",
    "calendar = pd.DataFrame(data)\n",
    "calendar"
   ]
  },
  {
   "cell_type": "code",
   "execution_count": null,
   "metadata": {},
   "outputs": [],
   "source": [
    "country_key='country_key=19'\n",
    "country_code=\"country_code='USA'\"\n",
    "circuit_key='circuit_key=151'\n",
    "year = 'year=2024'"
   ]
  },
  {
   "cell_type": "markdown",
   "metadata": {},
   "source": [
    "### Qualyfing\n",
    "In qualyfing,I will obtain the data related at the fastest driver on track to take as a reference his time and also his car data(RPM,speed,etc). With these data, it can see which gear will be used or at which speed a turn is taken."
   ]
  },
  {
   "cell_type": "code",
   "execution_count": null,
   "metadata": {},
   "outputs": [],
   "source": [
    "session_key='session_key=9074'\n",
    "url = 'https://api.openf1.org/v1/laps?'\n",
    "\n",
    "urltotal = url+session_key\n",
    "\n",
    "response = urlopen(urltotal)\n",
    "data = json.loads(response.read().decode('utf-8'))\n",
    "qualyfing = pd.DataFrame(data)\n",
    "qualyfing.query(\"is_pit_out_lap== False\")"
   ]
  },
  {
   "cell_type": "code",
   "execution_count": null,
   "metadata": {},
   "outputs": [],
   "source": [
    "qualyfing.query(\"date_start > '2023-05-06T20:45:23.629000'\").loc[qualyfing.query(\"date_start > '2023-05-06T20:45:23.629000'\")['lap_duration'].idxmin()]"
   ]
  },
  {
   "cell_type": "code",
   "execution_count": null,
   "metadata": {},
   "outputs": [],
   "source": [
    "from datetime import datetime, timedelta\n",
    "startfastestlap = datetime(2023,5,6,20,50,13,99100)\n",
    "startfastestlap+timedelta(seconds=86.841)"
   ]
  },
  {
   "cell_type": "markdown",
   "metadata": {},
   "source": [
    "To obtain a clean analysis, seconds within his fastest lap will be taken to know how develop the car when it is in its maxium performance."
   ]
  },
  {
   "cell_type": "code",
   "execution_count": null,
   "metadata": {},
   "outputs": [],
   "source": [
    "driver_number='&driver_number=11'\n",
    "url = \"https://api.openf1.org/v1/car_data?\"\n",
    "\n",
    "urltotal = url+session_key+driver_number\n",
    "\n",
    "response = urlopen(urltotal)\n",
    "data = json.loads(response.read().decode('utf-8'))\n",
    "fastestCarOnTrackData = pd.DataFrame(data)\n",
    "fastestCarOnTrackData= fastestCarOnTrackData.query(\"date>='2023-05-06T20:50:13.991000' and date <= '2023-05-06T20:51:39.940100'\").reset_index()"
   ]
  },
  {
   "cell_type": "code",
   "execution_count": null,
   "metadata": {},
   "outputs": [],
   "source": [
    "plt.plot(fastestCarOnTrackData.index, fastestCarOnTrackData.n_gear,color=\"#001344\")\n",
    "plt.title(\"RPM\")\n",
    "plt.xlabel(\"x\")\n",
    "plt.ylabel(\"n_gear\")\n",
    "plt.show()"
   ]
  },
  {
   "cell_type": "code",
   "execution_count": null,
   "metadata": {},
   "outputs": [],
   "source": [
    "plt.plot(fastestCarOnTrackData.index, fastestCarOnTrackData.speed,color=\"#001344\")\n",
    "plt.title(\"Speed\")\n",
    "plt.xlabel(\"x\")\n",
    "plt.ylabel(\"Speed (km/h)\")\n",
    "plt.show()"
   ]
  },
  {
   "cell_type": "code",
   "execution_count": null,
   "metadata": {},
   "outputs": [],
   "source": [
    "plt.plot(fastestCarOnTrackData.index, fastestCarOnTrackData.throttle,color=\"#001344\")\n",
    "plt.title(\"Throttle\")\n",
    "plt.xlabel(\"x\")\n",
    "plt.ylabel(\"Throttle (km/h)\")\n",
    "plt.show()\n"
   ]
  },
  {
   "cell_type": "markdown",
   "metadata": {},
   "source": [
    "## Race\n",
    "Some things that it could be interesting to take into account it could be the time spent in the box stops and the race pace in each sector to compare with the data obtained in the race."
   ]
  },
  {
   "cell_type": "code",
   "execution_count": null,
   "metadata": {},
   "outputs": [],
   "source": [
    "session_key='session_key=9078'\n",
    "url = 'https://api.openf1.org/v1/laps?'\n",
    "\n",
    "urltotal = url+session_key\n",
    "\n",
    "response = urlopen(urltotal)\n",
    "data = json.loads(response.read().decode('utf-8'))\n",
    "race = pd.DataFrame(data)\n",
    "race"
   ]
  },
  {
   "cell_type": "code",
   "execution_count": null,
   "metadata": {},
   "outputs": [],
   "source": [
    "# Name of the drivers\n",
    "url = 'https://api.openf1.org/v1/drivers?'\n",
    "# In this case, due to Open URL does not refresh well the feature drivers, I will catch Practice 1 drivers as a reference.\n",
    "#session_key = 'session_key=9472'\n",
    "urltotal = url+session_key\n",
    "\n",
    "response = urlopen(urltotal)\n",
    "drivers = json.loads(response.read().decode('utf-8'))\n",
    "drivers = pd.DataFrame(drivers)\n",
    "# Restore the session key\n",
    "#session_key='session_key=9481'\n",
    "drivers"
   ]
  },
  {
   "cell_type": "markdown",
   "metadata": {},
   "source": [
    "### Pits"
   ]
  },
  {
   "cell_type": "code",
   "execution_count": null,
   "metadata": {},
   "outputs": [],
   "source": [
    "session_key='session_key=9078'\n",
    "url = 'https://api.openf1.org/v1/pit?'\n",
    "\n",
    "urltotal = url+session_key\n",
    "\n",
    "response = urlopen(urltotal)\n",
    "data = json.loads(response.read().decode('utf-8'))\n",
    "pits = pd.DataFrame(data)\n",
    "pits"
   ]
  },
  {
   "cell_type": "markdown",
   "metadata": {},
   "source": [
    "### Stints"
   ]
  },
  {
   "cell_type": "code",
   "execution_count": null,
   "metadata": {},
   "outputs": [],
   "source": [
    "url = 'https://api.openf1.org/v1/stints?'\n",
    "\n",
    "urltotal = url+session_key\n",
    "\n",
    "response = urlopen(urltotal)\n",
    "data = json.loads(response.read().decode('utf-8'))\n",
    "stintInformation = pd.DataFrame(data)\n",
    "stintInformation"
   ]
  },
  {
   "cell_type": "code",
   "execution_count": null,
   "metadata": {},
   "outputs": [],
   "source": [
    "def stint_configuration(stintInformation):\n",
    "    stintsDataFrame = pd.DataFrame()\n",
    "    for index,row in stintInformation.iterrows():\n",
    "        number_driver = row.driver_number\n",
    "        acronym_driver = drivers.query('driver_number == @number_driver').name_acronym.to_string(index=False)\n",
    "        full_name = drivers.query('driver_number == @number_driver').full_name.to_string(index=False)\n",
    "        team_name = drivers.query('driver_number == @number_driver').team_name.to_string(index=False)\n",
    "        if row.lap_start != row.lap_end:\n",
    "            contador = row.lap_start\n",
    "            while contador <=row.lap_end :\n",
    "                new_row = {'driver_number':row.driver_number,'compound':row.compound,'lap_number':contador,'name_acronym':acronym_driver,'full_name':full_name,'team_name':team_name}\n",
    "                stintsDataFrame = pd.concat([stintsDataFrame, pd.DataFrame([new_row])], ignore_index=True)\n",
    "                contador+=1\n",
    "        else:\n",
    "        \n",
    "            new_row = {'driver_number':row.driver_number,'compound':row.compound,'lap_number':row.lap_start,'name_acronym':acronym_driver,'full_name':full_name,'team_name':team_name}\n",
    "            stintsDataFrame =pd.concat([stintsDataFrame, pd.DataFrame([new_row])], ignore_index=True)\n",
    "    return stintsDataFrame"
   ]
  },
  {
   "cell_type": "code",
   "execution_count": null,
   "metadata": {},
   "outputs": [],
   "source": [
    "stintsDataFrame =stint_configuration(stintInformation)\n",
    "jointables2 = pd.merge(race,stintsDataFrame,on=['lap_number','driver_number'])\n",
    "jointables2"
   ]
  },
  {
   "cell_type": "markdown",
   "metadata": {},
   "source": [
    "### Fastest lap per compound"
   ]
  },
  {
   "cell_type": "code",
   "execution_count": null,
   "metadata": {},
   "outputs": [],
   "source": [
    "compoundsPace = jointables2.loc[jointables2.groupby(['compound'])['lap_duration'].idxmin()]\n",
    "compoundsPace"
   ]
  },
  {
   "cell_type": "markdown",
   "metadata": {},
   "source": [
    "### Sector 1"
   ]
  },
  {
   "cell_type": "code",
   "execution_count": null,
   "metadata": {},
   "outputs": [],
   "source": [
    "race_pace = pd.DataFrame(jointables2.query(\"is_pit_out_lap == False  and lap_duration <= 95\").groupby(\"team_name\")['duration_sector_1'].mean().sort_values(ascending=True))\n",
    "race_pace"
   ]
  },
  {
   "cell_type": "markdown",
   "metadata": {},
   "source": [
    "### Sector 2"
   ]
  },
  {
   "cell_type": "code",
   "execution_count": null,
   "metadata": {},
   "outputs": [],
   "source": [
    "race_pace = pd.DataFrame(jointables2.query(\"is_pit_out_lap == False  and lap_duration <= 95\").groupby(\"team_name\")['duration_sector_2'].mean().sort_values(ascending=True))\n",
    "race_pace"
   ]
  },
  {
   "cell_type": "markdown",
   "metadata": {},
   "source": [
    "### Sector 3"
   ]
  },
  {
   "cell_type": "code",
   "execution_count": null,
   "metadata": {},
   "outputs": [],
   "source": [
    "race_pace = pd.DataFrame(jointables2.query(\"is_pit_out_lap == False  and lap_duration <= 95\").groupby(\"team_name\")['duration_sector_3'].mean().sort_values(ascending=True))\n",
    "race_pace"
   ]
  },
  {
   "cell_type": "code",
   "execution_count": null,
   "metadata": {},
   "outputs": [],
   "source": [
    "race_pace = pd.DataFrame(jointables2.query(\"is_pit_out_lap == False  and lap_duration <= 95\").groupby(\"compound\")['lap_duration'].mean().sort_values(ascending=True))\n",
    "race_pace"
   ]
  },
  {
   "cell_type": "markdown",
   "metadata": {},
   "source": [
    "# FORMULA 1 CRYPTO.COM MIAMI GRAND PRIX\n",
    "First of all it is neccesary to obtain all the data of the 2024 sessions in order to obtain some data as session_key,country_key,country_code and circuit_key"
   ]
  },
  {
   "cell_type": "code",
   "execution_count": null,
   "metadata": {},
   "outputs": [],
   "source": [
    "response = urlopen(\"https://api.openf1.org/v1/sessions?year=2024&country_code=USA&circuit_short_name=Miami\")\n",
    "data = json.loads(response.read().decode('utf-8'))\n",
    "calendar = pd.DataFrame(data)\n",
    "calendar"
   ]
  },
  {
   "cell_type": "markdown",
   "metadata": {},
   "source": [
    "## Setup"
   ]
  },
  {
   "cell_type": "code",
   "execution_count": null,
   "metadata": {},
   "outputs": [],
   "source": [
    "session_key='session_key=9497'\n",
    "country_key='country_key=19'\n",
    "country_code=\"country_code='USA'\"\n",
    "circuit_key='circuit_key=151'\n",
    "year = 'year=2024'"
   ]
  },
  {
   "cell_type": "markdown",
   "metadata": {},
   "source": [
    "## Free Practice 1"
   ]
  },
  {
   "cell_type": "code",
   "execution_count": null,
   "metadata": {},
   "outputs": [],
   "source": [
    "url = 'https://api.openf1.org/v1/laps?'\n",
    "\n",
    "urltotal = url+session_key\n",
    "\n",
    "response = urlopen(urltotal)\n",
    "data = json.loads(response.read().decode('utf-8'))\n",
    "practice1 = pd.DataFrame(data)\n",
    "practice1"
   ]
  },
  {
   "cell_type": "code",
   "execution_count": null,
   "metadata": {},
   "outputs": [],
   "source": [
    "#Stints\n",
    "url = 'https://api.openf1.org/v1/stints?'\n",
    "\n",
    "urltotal = url+session_key\n",
    "\n",
    "response = urlopen(urltotal)\n",
    "data = json.loads(response.read().decode('utf-8'))\n",
    "stintInformation = pd.DataFrame(data)\n",
    "stintInformation"
   ]
  },
  {
   "cell_type": "code",
   "execution_count": null,
   "metadata": {},
   "outputs": [],
   "source": [
    "# Name of the drivers\n",
    "url = 'https://api.openf1.org/v1/drivers?'\n",
    "# In this case, due to Open URL does not refresh well the feature drivers, I will catch Practice 1 drivers as a reference.\n",
    "#session_key = 'session_key=9472'\n",
    "urltotal = url+session_key\n",
    "\n",
    "response = urlopen(urltotal)\n",
    "drivers = json.loads(response.read().decode('utf-8'))\n",
    "drivers = pd.DataFrame(drivers)\n",
    "# Restore the session key\n",
    "#session_key='session_key=9481'\n",
    "drivers"
   ]
  },
  {
   "cell_type": "code",
   "execution_count": null,
   "metadata": {},
   "outputs": [],
   "source": [
    "stintsDataFrame =stint_configuration(stintInformation)\n",
    "jointables2 = pd.merge(practice1,stintsDataFrame,on=['lap_number','driver_number'])\n",
    "jointables2"
   ]
  },
  {
   "cell_type": "markdown",
   "metadata": {},
   "source": [
    "### Data tyres"
   ]
  },
  {
   "cell_type": "code",
   "execution_count": null,
   "metadata": {},
   "outputs": [],
   "source": [
    "def define_colour(compound):\n",
    "    if compound == \"SOFT\":\n",
    "        colour = \"red\"\n",
    "    elif compound == \"MEDIUM\":\n",
    "        colour = \"yellow\"\n",
    "    elif compound == \"HARD\":\n",
    "        colour = \"grey\"\n",
    "    elif compound == \"INTERMEDIATE\":\n",
    "        colour = \"green\"\n",
    "    else:\n",
    "        colour = \"blue\"\n",
    "    return colour"
   ]
  },
  {
   "cell_type": "code",
   "execution_count": null,
   "metadata": {},
   "outputs": [],
   "source": [
    "def show_plot(arrayDataframes,colour):\n",
    "    figure, axis = plt.subplots(len(arrayDataframes),figsize=(15,85))\n",
    "    #plt.xlim(92, 96)\n",
    "    i=0\n",
    "    for arr in arrayDataframes:\n",
    "        arr.reset_index(drop=True, inplace=True)\n",
    "        axis[(i)].plot( arr.lap_duration,marker =\"o\",color=colour,label = str(arr.full_name[0]) )\n",
    "        axis[i].set_xlabel(\"Lap time\")\n",
    "        axis[i].set_ylabel(\"Lap Time Seconds\")\n",
    "        axis[i].legend()\n",
    "        i = i+1"
   ]
  },
  {
   "cell_type": "code",
   "execution_count": null,
   "metadata": {},
   "outputs": [],
   "source": [
    "def obtain_data_tyres(dataset,compound,race):\n",
    "    extra = ''\n",
    "    if race == False:\n",
    "        extra = ' and lap_duration <97'\n",
    "    else:\n",
    "        extra = 'and lap_duration < 105'\n",
    "    setTyres = dataset.query('compound == @compound '+extra)\n",
    "    drivers_number = []\n",
    "    set_dict = {}\n",
    "    for index,row in setTyres.iterrows():\n",
    "        if row.driver_number not in drivers_number:\n",
    "            set_dict[row.driver_number] = []\n",
    "            drivers_number.append(row.driver_number)\n",
    "\n",
    "        set_dict[row.driver_number].append(row)\n",
    "\n",
    "    arrayDataframes = []\n",
    "    for valor in set_dict.values():\n",
    "        arrayDataframes.append(pd.DataFrame(valor))\n",
    "    colour = define_colour(compound)\n",
    "    show_plot(arrayDataframes,colour)"
   ]
  },
  {
   "cell_type": "code",
   "execution_count": null,
   "metadata": {},
   "outputs": [],
   "source": [
    "obtain_data_tyres(jointables2,\"MEDIUM\",False)"
   ]
  },
  {
   "cell_type": "code",
   "execution_count": null,
   "metadata": {},
   "outputs": [],
   "source": [
    "obtain_data_tyres(jointables2,\"SOFT\",False)"
   ]
  },
  {
   "cell_type": "code",
   "execution_count": null,
   "metadata": {},
   "outputs": [],
   "source": [
    "obtain_data_tyres(jointables2,\"HARD\",False)"
   ]
  },
  {
   "cell_type": "code",
   "execution_count": null,
   "metadata": {},
   "outputs": [],
   "source": [
    "# Source: https://www.geeksforgeeks.org/how-to-annotate-bars-in-barplot-with-matplotlib-in-python/\n",
    "def obtainchart(xvariable,yvariable,dataset):\n",
    "    plt.figure(figsize=(12, 9))\n",
    "    plots = sns.barplot(x=xvariable, y=yvariable, data=dataset,color='red')\n",
    "    for bar in plots.patches:\n",
    "        plots.annotate(format(bar.get_height(), '.3f'), \n",
    "                       (bar.get_x() + bar.get_width() / 2, \n",
    "                        bar.get_height()), ha='center', va='center',\n",
    "                       size=8, xytext=(0, 7),\n",
    "                       textcoords='offset points')\n",
    "    plt.show()"
   ]
  },
  {
   "cell_type": "markdown",
   "metadata": {},
   "source": [
    "### Top speed"
   ]
  },
  {
   "cell_type": "code",
   "execution_count": null,
   "metadata": {},
   "outputs": [],
   "source": [
    "top_speed = jointables2.loc[jointables2.groupby(['name_acronym'])['st_speed'].idxmax()].sort_values(by=['st_speed'],ascending=False)\n",
    "obtainchart(\"name_acronym\",\"st_speed\",top_speed)"
   ]
  },
  {
   "cell_type": "code",
   "execution_count": null,
   "metadata": {},
   "outputs": [],
   "source": [
    "top_speed = jointables2.loc[jointables2.groupby(['name_acronym'])['i1_speed'].idxmax()].sort_values(by=['i1_speed'],ascending=False)\n",
    "obtainchart(\"name_acronym\",\"i1_speed\",top_speed)"
   ]
  },
  {
   "cell_type": "code",
   "execution_count": null,
   "metadata": {},
   "outputs": [],
   "source": [
    "top_speed = jointables2.loc[jointables2.groupby(['name_acronym'])['i2_speed'].idxmax()].sort_values(by=['i2_speed'],ascending=False)\n",
    "obtainchart(\"name_acronym\",\"i2_speed\",top_speed)"
   ]
  },
  {
   "cell_type": "markdown",
   "metadata": {},
   "source": [
    "### Fastest lap per compound"
   ]
  },
  {
   "cell_type": "code",
   "execution_count": null,
   "metadata": {},
   "outputs": [],
   "source": [
    "compoundsPace = jointables2.loc[jointables2.groupby(['compound'])['lap_duration'].idxmin()]\n",
    "compoundsPace[['full_name','compound','duration_sector_1','duration_sector_2','duration_sector_3','lap_duration']]"
   ]
  },
  {
   "cell_type": "markdown",
   "metadata": {},
   "source": [
    "### Fastest lap"
   ]
  },
  {
   "cell_type": "code",
   "execution_count": null,
   "metadata": {},
   "outputs": [],
   "source": [
    "def obtain_fastest_lap(driver,dataset,newdataset):\n",
    "    fastest_lap = dataset.query(\"driver_number == @driver\").lap_duration.min()\n",
    "    team_name = dataset.query(\"driver_number == @driver\").head(1).team_name.to_string(index=False)\n",
    "    #team_colour = dataset.query(\"driver_number == @driver\").head(1).team_colour.to_string(index=False)\n",
    "    name_acronym = dataset.query('driver_number == @driver').head(1).name_acronym.to_string(index=False)\n",
    "    new_row = {'driver_number':driver,'fastest_lap':fastest_lap,'name_acronym': name_acronym, 'team_name':team_name}\n",
    "    newdataset =pd.concat([newdataset, pd.DataFrame([new_row])], ignore_index=True)\n",
    "    return newdataset"
   ]
  },
  {
   "cell_type": "code",
   "execution_count": null,
   "metadata": {},
   "outputs": [],
   "source": [
    "def obtain_deltas(dataset,array):\n",
    "    fastest_lap = dataset.fastest_lap.min()\n",
    "    for row in dataset.iterrows():\n",
    "        lap = row[1][1]\n",
    "        delta = lap-fastest_lap\n",
    "        array.append(delta)\n",
    "    return array"
   ]
  },
  {
   "cell_type": "code",
   "execution_count": null,
   "metadata": {},
   "outputs": [],
   "source": [
    "practiceCleaned = jointables2.query(\"lap_duration >1\")\n",
    "drivers_list = list(practiceCleaned['driver_number'].unique())\n",
    "newdataset = pd.DataFrame()\n",
    "for driver in drivers_list:\n",
    "    newdataset =obtain_fastest_lap(driver,practiceCleaned,newdataset)"
   ]
  },
  {
   "cell_type": "code",
   "execution_count": null,
   "metadata": {},
   "outputs": [],
   "source": [
    "arr= obtain_deltas(newdataset,[])\n",
    "newdataset.insert(3,'delta',arr)"
   ]
  },
  {
   "cell_type": "code",
   "execution_count": null,
   "metadata": {},
   "outputs": [],
   "source": [
    "dt = newdataset.sort_values(ascending=True,by='delta')\n",
    "obtainchart(\"name_acronym\",\"delta\",dt)"
   ]
  },
  {
   "cell_type": "markdown",
   "metadata": {},
   "source": [
    "### Track dominance"
   ]
  },
  {
   "cell_type": "code",
   "execution_count": null,
   "metadata": {},
   "outputs": [],
   "source": [
    "sectorPace = jointables2.loc[jointables2.groupby(['driver_number'])['duration_sector_1'].idxmin()].sort_values(by=['duration_sector_1'],ascending=True)\n",
    "sectorPace[['duration_sector_1','full_name','compound','lap_duration','lap_number']]"
   ]
  },
  {
   "cell_type": "code",
   "execution_count": null,
   "metadata": {},
   "outputs": [],
   "source": [
    "sectorPace = jointables2.loc[jointables2.groupby(['driver_number'])['duration_sector_2'].idxmin()].sort_values(by=['duration_sector_2'],ascending=True)\n",
    "sectorPace[['duration_sector_2','full_name','compound','lap_duration','lap_number']]"
   ]
  },
  {
   "cell_type": "code",
   "execution_count": null,
   "metadata": {},
   "outputs": [],
   "source": [
    "sectorPace = jointables2.loc[jointables2.groupby(['driver_number'])['duration_sector_3'].idxmin()].sort_values(by=['duration_sector_3'],ascending=True)\n",
    "sectorPace[['duration_sector_3','full_name','compound','lap_duration','lap_number']]"
   ]
  },
  {
   "cell_type": "code",
   "execution_count": null,
   "metadata": {},
   "outputs": [],
   "source": [
    "race_pace = pd.DataFrame(jointables2.query(\"is_pit_out_lap == False  and lap_duration <= 95\").groupby(\"compound\")['lap_duration'].mean().sort_values(ascending=True))\n",
    "race_pace"
   ]
  },
  {
   "cell_type": "markdown",
   "metadata": {},
   "source": [
    "### Long laps"
   ]
  },
  {
   "cell_type": "code",
   "execution_count": null,
   "metadata": {},
   "outputs": [],
   "source": [
    "def getinfolonglaps(dataset,driver_number,team,lap_duration_min=90,lap_duration_max=95):\n",
    "    dataset = dataset.query(\"is_pit_out_lap == False and driver_number == @driver_number and team_name == @team and lap_duration < @lap_duration_max and lap_duration > @lap_duration_min \")\n",
    "    return dataset[['full_name','compound','date_start','lap_number','duration_sector_1','duration_sector_2','duration_sector_3','lap_duration']]"
   ]
  },
  {
   "cell_type": "markdown",
   "metadata": {},
   "source": [
    "#### Red Bull Racing"
   ]
  },
  {
   "cell_type": "code",
   "execution_count": null,
   "metadata": {},
   "outputs": [],
   "source": [
    "stintInformation.query('driver_number == 1 or driver_number == 11')"
   ]
  },
  {
   "cell_type": "code",
   "execution_count": null,
   "metadata": {},
   "outputs": [],
   "source": [
    "getinfolonglaps(jointables2,1,'Red Bull Racing',90,95)"
   ]
  },
  {
   "cell_type": "code",
   "execution_count": null,
   "metadata": {},
   "outputs": [],
   "source": [
    "getinfolonglaps(jointables2,11,'Red Bull Racing',90,95)"
   ]
  },
  {
   "cell_type": "markdown",
   "metadata": {},
   "source": [
    "#### Ferrari"
   ]
  },
  {
   "cell_type": "code",
   "execution_count": null,
   "metadata": {},
   "outputs": [],
   "source": [
    "stintInformation.query('driver_number == 16 or driver_number == 55')"
   ]
  },
  {
   "cell_type": "code",
   "execution_count": null,
   "metadata": {},
   "outputs": [],
   "source": [
    "getinfolonglaps(jointables2,55,'Ferrari',90,98)"
   ]
  },
  {
   "cell_type": "markdown",
   "metadata": {},
   "source": [
    "#### McLaren"
   ]
  },
  {
   "cell_type": "code",
   "execution_count": null,
   "metadata": {},
   "outputs": [],
   "source": [
    "stintInformation.query('driver_number == 4 or driver_number == 81')"
   ]
  },
  {
   "cell_type": "code",
   "execution_count": null,
   "metadata": {},
   "outputs": [],
   "source": [
    "getinfolonglaps(jointables2,4,'McLaren',90,95)"
   ]
  },
  {
   "cell_type": "code",
   "execution_count": null,
   "metadata": {},
   "outputs": [],
   "source": [
    "getinfolonglaps(jointables2,81,'McLaren',90,95)"
   ]
  },
  {
   "cell_type": "markdown",
   "metadata": {},
   "source": [
    "#### Mercedes"
   ]
  },
  {
   "cell_type": "code",
   "execution_count": null,
   "metadata": {},
   "outputs": [],
   "source": [
    "stintInformation.query('driver_number == 44 or driver_number == 63')"
   ]
  },
  {
   "cell_type": "code",
   "execution_count": null,
   "metadata": {},
   "outputs": [],
   "source": [
    "getinfolonglaps(jointables2,44,'Mercedes',90,95)"
   ]
  },
  {
   "cell_type": "code",
   "execution_count": null,
   "metadata": {},
   "outputs": [],
   "source": [
    "getinfolonglaps(jointables2,63,'Mercedes',90,95)"
   ]
  },
  {
   "cell_type": "markdown",
   "metadata": {},
   "source": [
    "#### Aston Martin"
   ]
  },
  {
   "cell_type": "code",
   "execution_count": null,
   "metadata": {},
   "outputs": [],
   "source": [
    "stintInformation.query('driver_number == 14 or driver_number == 18')"
   ]
  },
  {
   "cell_type": "code",
   "execution_count": null,
   "metadata": {},
   "outputs": [],
   "source": [
    "getinfolonglaps(jointables2,14,'Aston Martin',90,95)"
   ]
  },
  {
   "cell_type": "code",
   "execution_count": null,
   "metadata": {},
   "outputs": [],
   "source": [
    "getinfolonglaps(jointables2,18,'Aston Martin',90,95)"
   ]
  },
  {
   "cell_type": "markdown",
   "metadata": {},
   "source": [
    "#### RB"
   ]
  },
  {
   "cell_type": "code",
   "execution_count": null,
   "metadata": {},
   "outputs": [],
   "source": [
    "stintInformation.query('driver_number == 3 or driver_number == 22')"
   ]
  },
  {
   "cell_type": "code",
   "execution_count": null,
   "metadata": {},
   "outputs": [],
   "source": [
    "getinfolonglaps(jointables2,3,'RB',90,95)"
   ]
  },
  {
   "cell_type": "code",
   "execution_count": null,
   "metadata": {},
   "outputs": [],
   "source": [
    "getinfolonglaps(jointables2,22,'RB',90,95)"
   ]
  },
  {
   "cell_type": "markdown",
   "metadata": {},
   "source": [
    "#### Williams"
   ]
  },
  {
   "cell_type": "code",
   "execution_count": null,
   "metadata": {},
   "outputs": [],
   "source": [
    "stintInformation.query('driver_number == 2 or driver_number == 23')"
   ]
  },
  {
   "cell_type": "code",
   "execution_count": null,
   "metadata": {},
   "outputs": [],
   "source": [
    "getinfolonglaps(jointables2,2,'Williams',90,95)"
   ]
  },
  {
   "cell_type": "code",
   "execution_count": null,
   "metadata": {},
   "outputs": [],
   "source": [
    "getinfolonglaps(jointables2,23,'Williams',90,95)"
   ]
  },
  {
   "cell_type": "markdown",
   "metadata": {},
   "source": [
    "#### Kick Sauber"
   ]
  },
  {
   "cell_type": "code",
   "execution_count": null,
   "metadata": {},
   "outputs": [],
   "source": [
    "stintInformation.query('driver_number == 24 or driver_number == 77')"
   ]
  },
  {
   "cell_type": "code",
   "execution_count": null,
   "metadata": {},
   "outputs": [],
   "source": [
    "getinfolonglaps(jointables2,24,'Kick Sauber',90,95)"
   ]
  },
  {
   "cell_type": "code",
   "execution_count": null,
   "metadata": {},
   "outputs": [],
   "source": [
    "getinfolonglaps(jointables2,77,'Kick Sauber',90,95)"
   ]
  },
  {
   "cell_type": "markdown",
   "metadata": {},
   "source": [
    "#### Haas"
   ]
  },
  {
   "cell_type": "code",
   "execution_count": null,
   "metadata": {},
   "outputs": [],
   "source": [
    "stintInformation.query('driver_number == 20 or driver_number == 27')"
   ]
  },
  {
   "cell_type": "code",
   "execution_count": null,
   "metadata": {},
   "outputs": [],
   "source": [
    "getinfolonglaps(jointables2,20,'Haas F1 Team',90,95)"
   ]
  },
  {
   "cell_type": "code",
   "execution_count": null,
   "metadata": {},
   "outputs": [],
   "source": [
    "getinfolonglaps(jointables2,27,'Haas F1 Team',90,95)"
   ]
  },
  {
   "cell_type": "markdown",
   "metadata": {},
   "source": [
    "#### Alpine"
   ]
  },
  {
   "cell_type": "code",
   "execution_count": null,
   "metadata": {},
   "outputs": [],
   "source": [
    "stintInformation.query('driver_number == 10 or driver_number == 31')"
   ]
  },
  {
   "cell_type": "code",
   "execution_count": null,
   "metadata": {},
   "outputs": [],
   "source": [
    "getinfolonglaps(jointables2,10,'Alpine',90,95)"
   ]
  },
  {
   "cell_type": "code",
   "execution_count": null,
   "metadata": {},
   "outputs": [],
   "source": [
    "getinfolonglaps(jointables2,31,'Alpine',90,95)"
   ]
  },
  {
   "cell_type": "markdown",
   "metadata": {},
   "source": [
    "## Sprint Qualyfing\n",
    "### Race control\n",
    "This section has been added in order to know which laps has been deleted and knowing what happened on track during this session as well."
   ]
  },
  {
   "cell_type": "code",
   "execution_count": null,
   "metadata": {},
   "outputs": [],
   "source": [
    "url = 'https://api.openf1.org/v1/race_control?'\n",
    "session_key = 'session_key=9502'\n",
    "urltotal = url+session_key\n",
    "\n",
    "response = urlopen(urltotal)\n",
    "data = json.loads(response.read().decode('utf-8'))\n",
    "race_control = pd.DataFrame(data)\n",
    "race_control"
   ]
  },
  {
   "cell_type": "code",
   "execution_count": null,
   "metadata": {},
   "outputs": [],
   "source": [
    "url = 'https://api.openf1.org/v1/laps?'\n",
    "urltotal = url+session_key\n",
    "\n",
    "response = urlopen(urltotal)\n",
    "data = json.loads(response.read().decode('utf-8'))\n",
    "qualyfing = pd.DataFrame(data)\n",
    "qualyfing"
   ]
  },
  {
   "cell_type": "markdown",
   "metadata": {},
   "source": [
    "In race control dataset, I can see a lot of laptimes deleted, principally for track limits. Those laps deleted were deleted from dataset in order to obtain only the valid laps for the analysis."
   ]
  },
  {
   "cell_type": "code",
   "execution_count": null,
   "metadata": {},
   "outputs": [],
   "source": [
    "ids_deleted = [36,87,69,103,176]\n",
    "for idv in ids_deleted:\n",
    "    qualyfing = qualyfing.drop(idv)"
   ]
  },
  {
   "cell_type": "code",
   "execution_count": null,
   "metadata": {},
   "outputs": [],
   "source": [
    "bestlap = qualyfing.loc[qualyfing.groupby(['driver_number'])['lap_duration'].idxmin()].sort_values(by=['lap_duration'],ascending=True)\n",
    "bestlap[0:1]"
   ]
  },
  {
   "cell_type": "markdown",
   "metadata": {},
   "source": [
    "The fastest lap  is 87.597 seconds (1.35.606= so that to obtain the competitve laps the fastest lap will be multiplied by 1.07 (93.72879 seconds) due to, according to the rules all the drivers have to do unless one lap within this gap."
   ]
  },
  {
   "cell_type": "code",
   "execution_count": null,
   "metadata": {},
   "outputs": [],
   "source": [
    "competitiveLaps = qualyfing.query(\"is_pit_out_lap == False and lap_duration < 93.72879\")\n",
    "competitiveLaps"
   ]
  },
  {
   "cell_type": "code",
   "execution_count": null,
   "metadata": {},
   "outputs": [],
   "source": [
    "def obtain_information_qualy(driver,dataset):\n",
    "    newdataset = None\n",
    "    fastest_lap = dataset.query(\"driver_number == @driver\").lap_duration.min()\n",
    "    fastest_lap_absolute = dataset.lap_duration.min()\n",
    "    delta = fastest_lap - fastest_lap_absolute\n",
    "    st_speed = dataset.query(\"driver_number == @driver\").st_speed.min()\n",
    "    i1_speed = dataset.query(\"driver_number == @driver\").i1_speed.min()\n",
    "    i2_speed = dataset.query(\"driver_number == @driver\").i2_speed.min()\n",
    "    new_row = {'driver_number':driver,'fastest_lap':fastest_lap,'delta': delta,'st_speed':st_speed,'i1_speed':i1_speed,'i2_speed':i2_speed}\n",
    "    newdataset =pd.concat([newdataset, pd.DataFrame([new_row])], ignore_index=True)\n",
    "    return newdataset"
   ]
  },
  {
   "cell_type": "code",
   "execution_count": null,
   "metadata": {},
   "outputs": [],
   "source": [
    "drivers_list = list(competitiveLaps['driver_number'].unique())\n",
    "newdataset = pd.DataFrame()\n",
    "for driver in drivers_list:\n",
    "    newdataset =obtain_information_qualy(driver,competitiveLaps)\n",
    "jointables = pd.merge(newdataset,drivers,on=['driver_number'])\n",
    "jointables.sort_values(by=['fastest_lap'],ascending=True)"
   ]
  },
  {
   "cell_type": "markdown",
   "metadata": {},
   "source": [
    "#### Best lap per driver compared with the best lap of the session in dry conditions"
   ]
  },
  {
   "cell_type": "code",
   "execution_count": null,
   "metadata": {},
   "outputs": [],
   "source": [
    "obtainchart(\"name_acronym\",\"delta\",jointables.sort_values(by=['fastest_lap'],ascending=True))"
   ]
  },
  {
   "cell_type": "code",
   "execution_count": null,
   "metadata": {},
   "outputs": [],
   "source": [
    "def obtain_difference_regard_reference(row,reference):\n",
    "    newdataset = None\n",
    "    difference_sector_1 = row.duration_sector_1 - reference.duration_sector_1.iloc[0]\n",
    "    difference_sector_2 = row.duration_sector_2 - reference.duration_sector_2.iloc[0]\n",
    "    difference_sector_3 = row.duration_sector_3 - reference.duration_sector_3.iloc[0]\n",
    "    lap_duration = row.lap_duration - reference.lap_duration.iloc[0]\n",
    "    new_row = {'driver_number':row.driver_number,'lap_duration':lap_duration,'difference_sector_1':difference_sector_1 ,'difference_sector_2':difference_sector_2,'difference_sector_3':difference_sector_3,'name_acronym':row.name_acronym   }\n",
    "    \n",
    "    newdataset =pd.concat([newdataset, pd.DataFrame([new_row])], ignore_index=True)\n",
    "    return newdataset"
   ]
  },
  {
   "cell_type": "code",
   "execution_count": null,
   "metadata": {},
   "outputs": [],
   "source": [
    "# Function done to obtain more information about the qualyfing session\n",
    "def obtainInfoAboutQualySession(dataset,fecha):\n",
    "    sessiondataset =dataset.query(fecha).sort_values(by='lap_duration')\n",
    "    isFastestLap = []\n",
    "    for index,row in sessiondataset.iterrows():\n",
    "        driver = row.driver_number\n",
    "        fastest_lap = sessiondataset.query(\"driver_number == @driver\").lap_duration.min()\n",
    "        if row.lap_duration == fastest_lap:\n",
    "            isFastestLap.append(True)\n",
    "        else:\n",
    "            isFastestLap.append(False)\n",
    "    sessiondataset['isFastestLap'] = isFastestLap\n",
    "    return sessiondataset"
   ]
  },
  {
   "cell_type": "code",
   "execution_count": null,
   "metadata": {},
   "outputs": [],
   "source": [
    "mergequaly = pd.merge(competitiveLaps,drivers,on=['driver_number'])\n",
    "mergequaly"
   ]
  },
  {
   "cell_type": "code",
   "execution_count": null,
   "metadata": {},
   "outputs": [],
   "source": [
    "# In order to know when each session finished, race control dataset will be consulted.\n",
    "maximumDateQ1 = \"date_start <'2024-05-03T20:49:01+00:00'\"\n",
    "maximumDateQ2 = \"date_start <'2024-05-03T21:06:00+00:00' and date_start >='2024-05-03T20:49:01+00:00'\"\n",
    "maximumDateQ3 = \"date_start >'2024-05-03T21:06:00+00:00'\""
   ]
  },
  {
   "cell_type": "markdown",
   "metadata": {},
   "source": [
    "### Sprint Qualyfing 1"
   ]
  },
  {
   "cell_type": "code",
   "execution_count": null,
   "metadata": {},
   "outputs": [],
   "source": [
    "q1Data = obtainInfoAboutQualySession(mergequaly,maximumDateQ1).query(\"isFastestLap == True\").sort_values(by=['lap_duration'],ascending=True)\n",
    "q1Data"
   ]
  },
  {
   "cell_type": "markdown",
   "metadata": {},
   "source": [
    "##### Comparaison with driver at risk\n",
    "In this section with the fastest lap done for each driver (laptimes deleted will not be taken into account to do this analysis) it will be a comparaison in order to see where the driver eliminated lost/gain time in their fastest lap."
   ]
  },
  {
   "cell_type": "code",
   "execution_count": null,
   "metadata": {},
   "outputs": [],
   "source": [
    "#Reference\n",
    "P15 = q1Data[14:15]\n",
    "P15"
   ]
  },
  {
   "cell_type": "code",
   "execution_count": null,
   "metadata": {},
   "outputs": [],
   "source": [
    "print(\n",
    "\"Driver:\",P15.full_name.to_string(index=False),\n",
    "\"Sector 1: \",P15.duration_sector_1.to_string(index=False),\n",
    "\"Sector 2: \",P15.duration_sector_2.to_string(index=False),\n",
    "\"Sector 3: \",P15.duration_sector_3.to_string(index=False)\n",
    ")"
   ]
  },
  {
   "cell_type": "code",
   "execution_count": null,
   "metadata": {},
   "outputs": [],
   "source": [
    "newdataset2 = pd.DataFrame()\n",
    "for index,row in q1Data[15::].iterrows():\n",
    "    newdataset2 = obtain_difference_regard_reference(row,P15,newdataset2)\n",
    "\n",
    "newdataset2"
   ]
  },
  {
   "cell_type": "markdown",
   "metadata": {},
   "source": [
    "### Best sector per driver"
   ]
  },
  {
   "cell_type": "code",
   "execution_count": null,
   "metadata": {},
   "outputs": [],
   "source": [
    "pd.DataFrame(q1Data.groupby(\"name_acronym\")['duration_sector_1'].min().sort_values(ascending=True))"
   ]
  },
  {
   "cell_type": "code",
   "execution_count": null,
   "metadata": {},
   "outputs": [],
   "source": [
    "pd.DataFrame(q1Data.groupby(\"name_acronym\")['duration_sector_2'].min().sort_values(ascending=True))"
   ]
  },
  {
   "cell_type": "code",
   "execution_count": null,
   "metadata": {},
   "outputs": [],
   "source": [
    "pd.DataFrame(q1Data.groupby(\"name_acronym\")['duration_sector_3'].min().sort_values(ascending=True))"
   ]
  },
  {
   "cell_type": "markdown",
   "metadata": {},
   "source": [
    "### Sprint Qualyfing 2"
   ]
  },
  {
   "cell_type": "code",
   "execution_count": null,
   "metadata": {},
   "outputs": [],
   "source": [
    "q2Data = obtainInfoAboutQualySession(mergequaly,maximumDateQ2).query(\"isFastestLap == True\").sort_values(by=['lap_duration'],ascending=True)\n",
    "q2Data"
   ]
  },
  {
   "cell_type": "markdown",
   "metadata": {},
   "source": [
    "##### Comparaison with driver at risk\n",
    "In this section with the fastest lap done for each driver (laptimes deleted will not be taken into account to do this analysis) it will be a comparaison in order to see where the driver eliminated lost/gain time in their fastest lap."
   ]
  },
  {
   "cell_type": "code",
   "execution_count": null,
   "metadata": {},
   "outputs": [],
   "source": [
    "#Reference\n",
    "P10 = q2Data[9:10]\n",
    "print(\n",
    "\"Driver:\",P10.full_name.to_string(index=False),\n",
    "\"Sector 1: \",P10.duration_sector_1.to_string(index=False),\n",
    "\"Sector 2: \",P10.duration_sector_2.to_string(index=False),\n",
    "\"Sector 3: \",P10.duration_sector_3.to_string(index=False)\n",
    ")"
   ]
  },
  {
   "cell_type": "code",
   "execution_count": null,
   "metadata": {},
   "outputs": [],
   "source": [
    "newdataset2 = pd.DataFrame()\n",
    "for index,row in q2Data[10::].iterrows():\n",
    "    newdataset2 = obtain_difference_regard_reference(row,P10,newdataset2)\n",
    "\n",
    "newdataset2"
   ]
  },
  {
   "cell_type": "markdown",
   "metadata": {},
   "source": [
    "### Best sector per driver"
   ]
  },
  {
   "cell_type": "code",
   "execution_count": null,
   "metadata": {},
   "outputs": [],
   "source": [
    "pd.DataFrame(q2Data.groupby(\"name_acronym\")['duration_sector_1'].min().sort_values(ascending=True))"
   ]
  },
  {
   "cell_type": "code",
   "execution_count": null,
   "metadata": {},
   "outputs": [],
   "source": [
    "pd.DataFrame(q2Data.groupby(\"name_acronym\")['duration_sector_2'].min().sort_values(ascending=True))"
   ]
  },
  {
   "cell_type": "code",
   "execution_count": null,
   "metadata": {},
   "outputs": [],
   "source": [
    "pd.DataFrame(q2Data.groupby(\"name_acronym\")['duration_sector_3'].min().sort_values(ascending=True))"
   ]
  },
  {
   "cell_type": "markdown",
   "metadata": {},
   "source": [
    "### Sprint Qualyfing 3"
   ]
  },
  {
   "cell_type": "code",
   "execution_count": null,
   "metadata": {},
   "outputs": [],
   "source": [
    "q3Data = obtainInfoAboutQualySession(mergequaly,maximumDateQ3).query(\"isFastestLap == True\").sort_values(by=['lap_duration'],ascending=True)\n",
    "q3Data"
   ]
  },
  {
   "cell_type": "code",
   "execution_count": null,
   "metadata": {},
   "outputs": [],
   "source": [
    "#Reference\n",
    "P1 = q3Data[:1]\n",
    "print(\n",
    "\"Driver:\",P1.full_name.to_string(index=False),\n",
    "\"Sector 1: \",P1.duration_sector_1.to_string(index=False),\n",
    "\"Sector 2: \",P1.duration_sector_2.to_string(index=False),\n",
    "\"Sector 3: \",P1.duration_sector_3.to_string(index=False)\n",
    ")"
   ]
  },
  {
   "cell_type": "markdown",
   "metadata": {},
   "source": [
    "##### Comparaison with poleman\n",
    "In this section with the fastest lap done for each driver (laptimes deleted will not be taken into account to do this analysis) it will be a comparaison in order to see where the driver eliminated lost/gain time in their fastest lap."
   ]
  },
  {
   "cell_type": "code",
   "execution_count": null,
   "metadata": {},
   "outputs": [],
   "source": [
    "newdataset2 = pd.DataFrame()\n",
    "for index,row in q3Data[1::].iterrows():\n",
    "    newdataset2 = obtain_difference_regard_reference(row,P1,newdataset2)\n",
    "newdataset2"
   ]
  },
  {
   "cell_type": "markdown",
   "metadata": {},
   "source": [
    "### Best sector per driver"
   ]
  },
  {
   "cell_type": "code",
   "execution_count": null,
   "metadata": {},
   "outputs": [],
   "source": [
    "pd.DataFrame(q3Data.groupby(\"name_acronym\")['duration_sector_1'].min().sort_values(ascending=True))"
   ]
  },
  {
   "cell_type": "code",
   "execution_count": null,
   "metadata": {},
   "outputs": [],
   "source": [
    "pd.DataFrame(q3Data.groupby(\"name_acronym\")['duration_sector_2'].min().sort_values(ascending=True))"
   ]
  },
  {
   "cell_type": "code",
   "execution_count": null,
   "metadata": {},
   "outputs": [],
   "source": [
    "pd.DataFrame(q3Data.groupby(\"name_acronym\")['duration_sector_3'].min().sort_values(ascending=True))"
   ]
  },
  {
   "cell_type": "markdown",
   "metadata": {},
   "source": [
    "### Best sector in the session"
   ]
  },
  {
   "cell_type": "code",
   "execution_count": null,
   "metadata": {},
   "outputs": [],
   "source": [
    "pd.DataFrame(mergequaly.groupby(\"name_acronym\")['duration_sector_1'].min().sort_values(ascending=True))"
   ]
  },
  {
   "cell_type": "code",
   "execution_count": null,
   "metadata": {},
   "outputs": [],
   "source": [
    "pd.DataFrame(mergequaly.groupby(\"name_acronym\")['duration_sector_2'].min().sort_values(ascending=True))"
   ]
  },
  {
   "cell_type": "code",
   "execution_count": null,
   "metadata": {},
   "outputs": [],
   "source": [
    "pd.DataFrame(mergequaly.groupby(\"name_acronym\")['duration_sector_3'].min().sort_values(ascending=True))"
   ]
  },
  {
   "cell_type": "markdown",
   "metadata": {},
   "source": [
    "## Sprint"
   ]
  },
  {
   "cell_type": "code",
   "execution_count": null,
   "metadata": {},
   "outputs": [],
   "source": [
    "session_key = 'session_key=9506'\n",
    "url = 'https://api.openf1.org/v1/laps?'\n",
    "urltotal = url+session_key\n",
    "\n",
    "response = urlopen(urltotal)\n",
    "data = json.loads(response.read().decode('utf-8'))\n",
    "sprint = pd.DataFrame(data)\n",
    "sprint"
   ]
  },
  {
   "cell_type": "code",
   "execution_count": null,
   "metadata": {},
   "outputs": [],
   "source": [
    "#Stints\n",
    "url = 'https://api.openf1.org/v1/stints?'\n",
    "\n",
    "urltotal = url+session_key\n",
    "\n",
    "response = urlopen(urltotal)\n",
    "data = json.loads(response.read().decode('utf-8'))\n",
    "stintInformation = pd.DataFrame(data)\n",
    "stintInformation"
   ]
  },
  {
   "cell_type": "code",
   "execution_count": null,
   "metadata": {},
   "outputs": [],
   "source": [
    "stintsDataFrame =stint_configuration(stintInformation)\n",
    "jointables = pd.merge(race,stintsDataFrame,on=['lap_number','driver_number'])\n",
    "jointables"
   ]
  },
  {
   "cell_type": "code",
   "execution_count": null,
   "metadata": {},
   "outputs": [],
   "source": [
    "obtain_data_tyres(jointables,\"MEDIUM\",False)"
   ]
  },
  {
   "cell_type": "code",
   "execution_count": null,
   "metadata": {},
   "outputs": [],
   "source": [
    "obtain_data_tyres(jointables,\"SOFT\",False)"
   ]
  },
  {
   "cell_type": "code",
   "execution_count": null,
   "metadata": {},
   "outputs": [],
   "source": [
    "top_speed = jointables.loc[jointables.groupby(['name_acronym'])['st_speed'].idxmax()].sort_values(by=['st_speed'],ascending=False)\n",
    "obtainchart(\"name_acronym\",\"st_speed\",top_speed)"
   ]
  },
  {
   "cell_type": "code",
   "execution_count": null,
   "metadata": {},
   "outputs": [],
   "source": [
    "top_speed = jointables.loc[jointables.groupby(['name_acronym'])['i1_speed'].idxmax()].sort_values(by=['i1_speed'],ascending=False)\n",
    "obtainchart(\"name_acronym\",\"i1_speed\",top_speed)"
   ]
  },
  {
   "cell_type": "code",
   "execution_count": null,
   "metadata": {},
   "outputs": [],
   "source": [
    "top_speed = jointables.loc[jointables.groupby(['name_acronym'])['i2_speed'].idxmax()].sort_values(by=['i2_speed'],ascending=False)\n",
    "obtainchart(\"name_acronym\",\"i2_speed\",top_speed)"
   ]
  },
  {
   "cell_type": "code",
   "execution_count": null,
   "metadata": {},
   "outputs": [],
   "source": [
    "race_pace = pd.DataFrame(jointables.query(\"is_pit_out_lap == False  and lap_duration <= 95\").dropna().groupby(\"team_name\")['lap_duration'].mean().sort_values(ascending=True))\n",
    "race_pace"
   ]
  },
  {
   "cell_type": "code",
   "execution_count": null,
   "metadata": {},
   "outputs": [],
   "source": [
    "def obtain_race_pace(dataset,array):\n",
    "    fastest_lap = dataset.lap_duration.min()\n",
    "    for row in dataset.iterrows():\n",
    "        lap = row[1][0]\n",
    "        delta = lap-fastest_lap\n",
    "        array.append(delta)\n",
    "    return array\n",
    "arr= obtain_race_pace(race_pace,[])\n",
    "race_pace.insert(1,'delta',arr)"
   ]
  },
  {
   "cell_type": "markdown",
   "metadata": {},
   "source": [
    "### Race pace per teams"
   ]
  },
  {
   "cell_type": "code",
   "execution_count": null,
   "metadata": {},
   "outputs": [],
   "source": [
    "race_pace = pd.DataFrame(jointables.query(\"is_pit_out_lap == False  and lap_duration <= 95\").dropna().groupby(\"team_name\")['duration_sector_1'].mean().sort_values(ascending=True))\n",
    "race_pace"
   ]
  },
  {
   "cell_type": "code",
   "execution_count": null,
   "metadata": {},
   "outputs": [],
   "source": [
    "race_pace = pd.DataFrame(jointables.query(\"is_pit_out_lap == False  and lap_duration <= 95\").dropna().groupby(\"team_name\")['duration_sector_2'].mean().sort_values(ascending=True))\n",
    "race_pace"
   ]
  },
  {
   "cell_type": "code",
   "execution_count": null,
   "metadata": {},
   "outputs": [],
   "source": [
    "race_pace = pd.DataFrame(jointables.query(\"is_pit_out_lap == False  and lap_duration <= 95\").dropna().groupby(\"team_name\")['duration_sector_3'].mean().sort_values(ascending=True))\n",
    "race_pace"
   ]
  },
  {
   "cell_type": "markdown",
   "metadata": {},
   "source": [
    "#### Red Bull Racing"
   ]
  },
  {
   "cell_type": "code",
   "execution_count": null,
   "metadata": {},
   "outputs": [],
   "source": [
    "stintInformation.query('driver_number == 1 or driver_number == 11')"
   ]
  },
  {
   "cell_type": "code",
   "execution_count": null,
   "metadata": {},
   "outputs": [],
   "source": [
    "getinfolonglaps(jointables,1,'Red Bull Racing')"
   ]
  },
  {
   "cell_type": "code",
   "execution_count": null,
   "metadata": {},
   "outputs": [],
   "source": [
    "getinfolonglaps(jointables,11,'Red Bull Racing')"
   ]
  },
  {
   "cell_type": "markdown",
   "metadata": {},
   "source": [
    "#### Ferrari"
   ]
  },
  {
   "cell_type": "code",
   "execution_count": null,
   "metadata": {},
   "outputs": [],
   "source": [
    "stintInformation.query('driver_number == 16 or driver_number == 55')"
   ]
  },
  {
   "cell_type": "code",
   "execution_count": null,
   "metadata": {},
   "outputs": [],
   "source": [
    "getinfolonglaps(jointables,16,'Ferrari')"
   ]
  },
  {
   "cell_type": "code",
   "execution_count": null,
   "metadata": {},
   "outputs": [],
   "source": [
    "getinfolonglaps(jointables,55,'Ferrari')"
   ]
  },
  {
   "cell_type": "markdown",
   "metadata": {},
   "source": [
    "#### Mercedes"
   ]
  },
  {
   "cell_type": "code",
   "execution_count": null,
   "metadata": {},
   "outputs": [],
   "source": [
    "stintInformation.query('driver_number == 63 or driver_number == 44')"
   ]
  },
  {
   "cell_type": "code",
   "execution_count": null,
   "metadata": {},
   "outputs": [],
   "source": [
    "getinfolonglaps(jointables,63,'Mercedes')"
   ]
  },
  {
   "cell_type": "code",
   "execution_count": null,
   "metadata": {},
   "outputs": [],
   "source": [
    "getinfolonglaps(jointables,44,'Mercedes')"
   ]
  },
  {
   "cell_type": "markdown",
   "metadata": {},
   "source": [
    "#### Aston Martin"
   ]
  },
  {
   "cell_type": "code",
   "execution_count": null,
   "metadata": {},
   "outputs": [],
   "source": [
    "stintInformation.query('driver_number == 14 or driver_number == 18')"
   ]
  },
  {
   "cell_type": "code",
   "execution_count": null,
   "metadata": {},
   "outputs": [],
   "source": [
    "getinfolonglaps(jointables,14,'Aston Martin')"
   ]
  },
  {
   "cell_type": "code",
   "execution_count": null,
   "metadata": {},
   "outputs": [],
   "source": [
    "getinfolonglaps(jointables,18,'Aston Martin')"
   ]
  },
  {
   "cell_type": "markdown",
   "metadata": {},
   "source": [
    "#### McLaren"
   ]
  },
  {
   "cell_type": "code",
   "execution_count": null,
   "metadata": {},
   "outputs": [],
   "source": [
    "stintInformation.query('driver_number == 4 or driver_number == 81')"
   ]
  },
  {
   "cell_type": "code",
   "execution_count": null,
   "metadata": {},
   "outputs": [],
   "source": [
    "getinfolonglaps(jointables,81,'McLaren')"
   ]
  },
  {
   "cell_type": "code",
   "execution_count": null,
   "metadata": {},
   "outputs": [],
   "source": [
    "getinfolonglaps(jointables,4,'McLaren')"
   ]
  },
  {
   "cell_type": "markdown",
   "metadata": {},
   "source": [
    "#### Racing Bulls"
   ]
  },
  {
   "cell_type": "code",
   "execution_count": null,
   "metadata": {},
   "outputs": [],
   "source": [
    "stintInformation.query('driver_number == 3 or driver_number == 22')"
   ]
  },
  {
   "cell_type": "code",
   "execution_count": null,
   "metadata": {},
   "outputs": [],
   "source": [
    "getinfolonglaps(jointables,3,'RB')"
   ]
  },
  {
   "cell_type": "code",
   "execution_count": null,
   "metadata": {},
   "outputs": [],
   "source": [
    "getinfolonglaps(jointables,22,'RB')"
   ]
  },
  {
   "cell_type": "markdown",
   "metadata": {},
   "source": [
    "#### Williams"
   ]
  },
  {
   "cell_type": "code",
   "execution_count": null,
   "metadata": {},
   "outputs": [],
   "source": [
    "stintInformation.query('driver_number == 2 or driver_number == 23')"
   ]
  },
  {
   "cell_type": "code",
   "execution_count": null,
   "metadata": {},
   "outputs": [],
   "source": [
    "getinfolonglaps(jointables,2,'Williams')"
   ]
  },
  {
   "cell_type": "code",
   "execution_count": null,
   "metadata": {},
   "outputs": [],
   "source": [
    "getinfolonglaps(jointables,23,'Williams')"
   ]
  },
  {
   "cell_type": "markdown",
   "metadata": {},
   "source": [
    "#### Kick Sauber"
   ]
  },
  {
   "cell_type": "code",
   "execution_count": null,
   "metadata": {},
   "outputs": [],
   "source": [
    "stintInformation.query('driver_number == 24 or driver_number == 77')"
   ]
  },
  {
   "cell_type": "code",
   "execution_count": null,
   "metadata": {},
   "outputs": [],
   "source": [
    "getinfolonglaps(jointables,24,'Kick Sauber')"
   ]
  },
  {
   "cell_type": "code",
   "execution_count": null,
   "metadata": {},
   "outputs": [],
   "source": [
    "getinfolonglaps(jointables,77,'Kick Sauber')"
   ]
  },
  {
   "cell_type": "markdown",
   "metadata": {},
   "source": [
    "#### Alpine"
   ]
  },
  {
   "cell_type": "code",
   "execution_count": null,
   "metadata": {},
   "outputs": [],
   "source": [
    "getinfolonglaps(jointables,10,'Alpine')"
   ]
  },
  {
   "cell_type": "code",
   "execution_count": null,
   "metadata": {},
   "outputs": [],
   "source": [
    "getinfolonglaps(jointables,31,'Alpine')"
   ]
  },
  {
   "cell_type": "markdown",
   "metadata": {},
   "source": [
    "#### Haas"
   ]
  },
  {
   "cell_type": "code",
   "execution_count": null,
   "metadata": {},
   "outputs": [],
   "source": [
    "stintInformation.query('driver_number == 20 or driver_number == 27')"
   ]
  },
  {
   "cell_type": "code",
   "execution_count": null,
   "metadata": {},
   "outputs": [],
   "source": [
    "getinfolonglaps(jointables,20,'Haas F1 Team')"
   ]
  },
  {
   "cell_type": "code",
   "execution_count": null,
   "metadata": {},
   "outputs": [],
   "source": [
    "getinfolonglaps(jointables,27,'Haas F1 Team')"
   ]
  },
  {
   "cell_type": "markdown",
   "metadata": {},
   "source": [
    "## Qualyfing\n",
    "### Set up\n",
    "First of all, it is neccesary to obtain the data about the qualyfing\n",
    "#### Race control\n",
    "This section has been added in order to know which laps has been deleted and knowing what happened on track during this session as well."
   ]
  },
  {
   "cell_type": "code",
   "execution_count": null,
   "metadata": {},
   "outputs": [],
   "source": [
    "url = 'https://api.openf1.org/v1/race_control?'\n",
    "session_key = 'session_key=9498'\n",
    "urltotal = url+session_key\n",
    "\n",
    "response = urlopen(urltotal)\n",
    "data = json.loads(response.read().decode('utf-8'))\n",
    "race_control = pd.DataFrame(data)\n",
    "race_control"
   ]
  },
  {
   "cell_type": "markdown",
   "metadata": {},
   "source": [
    "### Laps"
   ]
  },
  {
   "cell_type": "code",
   "execution_count": null,
   "metadata": {},
   "outputs": [],
   "source": [
    "url = 'https://api.openf1.org/v1/laps?'\n",
    "#session_key = 'session_key=9492'\n",
    "urltotal = url+session_key\n",
    "\n",
    "response = urlopen(urltotal)\n",
    "data = json.loads(response.read().decode('utf-8'))\n",
    "qualyfing = pd.DataFrame(data)\n",
    "qualyfing"
   ]
  },
  {
   "cell_type": "markdown",
   "metadata": {},
   "source": [
    "As the qualyfing session has been without weather changes, I will take the fastest lap as a reference to obtain all the competitive laps."
   ]
  },
  {
   "cell_type": "code",
   "execution_count": null,
   "metadata": {},
   "outputs": [],
   "source": [
    "bestlap = qualyfing.loc[qualyfing.groupby(['driver_number'])['lap_duration'].idxmin()].sort_values(by=['lap_duration'],ascending=True)\n",
    "bestlap[0:1]"
   ]
  },
  {
   "cell_type": "markdown",
   "metadata": {},
   "source": [
    "In this case, the fastest lap is 87.241 seconds (1.27.241= so that to obtain the competitve laps the fastest lap will be multiplied by 1.07 (93.347 seconds) due to, according to the rules all the drivers have to do unless one lap within this gap."
   ]
  },
  {
   "cell_type": "code",
   "execution_count": null,
   "metadata": {},
   "outputs": [],
   "source": [
    "competitiveLaps = qualyfing.query(\"is_pit_out_lap == False and lap_duration < 93.347\")\n",
    "competitiveLaps"
   ]
  },
  {
   "cell_type": "code",
   "execution_count": null,
   "metadata": {},
   "outputs": [],
   "source": [
    "drivers_list = list(competitiveLaps['driver_number'].unique())\n",
    "newdataset = pd.DataFrame()\n",
    "for driver in drivers_list:\n",
    "    newdataset =obtain_information_qualy(driver,competitiveLaps)\n",
    "jointables = pd.merge(newdataset,drivers,on=['driver_number'])\n",
    "jointables.sort_values(by=['fastest_lap'],ascending=True)"
   ]
  },
  {
   "cell_type": "markdown",
   "metadata": {},
   "source": [
    "#### Best lap per driver compared with the best lap of the session"
   ]
  },
  {
   "cell_type": "code",
   "execution_count": null,
   "metadata": {},
   "outputs": [],
   "source": [
    "obtainchart(\"name_acronym\",\"delta\",jointables.sort_values(by=['fastest_lap'],ascending=True))"
   ]
  },
  {
   "cell_type": "markdown",
   "metadata": {},
   "source": [
    "#### Speed trap pace per driver"
   ]
  },
  {
   "cell_type": "code",
   "execution_count": null,
   "metadata": {},
   "outputs": [],
   "source": [
    "top_speed = jointables.loc[jointables.groupby(['name_acronym'])['i1_speed'].idxmax()].sort_values(by=['i1_speed'],ascending=False)\n",
    "obtainchart(\"name_acronym\",\"i1_speed\",top_speed)"
   ]
  },
  {
   "cell_type": "code",
   "execution_count": null,
   "metadata": {},
   "outputs": [],
   "source": [
    "top_speed = jointables.loc[jointables.groupby(['name_acronym'])['i2_speed'].idxmax()].sort_values(by=['i2_speed'],ascending=False)\n",
    "obtainchart(\"name_acronym\",\"i2_speed\",top_speed)"
   ]
  },
  {
   "cell_type": "code",
   "execution_count": null,
   "metadata": {},
   "outputs": [],
   "source": [
    "top_speed = jointables.loc[jointables.groupby(['name_acronym'])['st_speed'].idxmax()].sort_values(by=['st_speed'],ascending=False)\n",
    "obtainchart(\"name_acronym\",\"st_speed\",top_speed)"
   ]
  },
  {
   "cell_type": "markdown",
   "metadata": {},
   "source": [
    "### Speed trap pace per team"
   ]
  },
  {
   "cell_type": "code",
   "execution_count": null,
   "metadata": {},
   "outputs": [],
   "source": [
    "top_speed = jointables.loc[jointables.groupby(['team_name'])['i1_speed'].idxmax()].sort_values(by=['i1_speed'],ascending=False)\n",
    "obtainchart(\"team_name\",\"i1_speed\",top_speed)"
   ]
  },
  {
   "cell_type": "code",
   "execution_count": null,
   "metadata": {},
   "outputs": [],
   "source": [
    "top_speed = jointables.loc[jointables.groupby(['team_name'])['i2_speed'].idxmax()].sort_values(by=['i2_speed'],ascending=False)\n",
    "obtainchart(\"team_name\",\"i2_speed\",top_speed)"
   ]
  },
  {
   "cell_type": "code",
   "execution_count": null,
   "metadata": {},
   "outputs": [],
   "source": [
    "top_speed = jointables.loc[jointables.groupby(['team_name'])['st_speed'].idxmax()].sort_values(by=['st_speed'],ascending=False)\n",
    "obtainchart(\"team_name\",\"st_speed\",top_speed)"
   ]
  },
  {
   "cell_type": "code",
   "execution_count": null,
   "metadata": {},
   "outputs": [],
   "source": [
    "mergequaly = pd.merge(competitiveLaps,drivers,on=['driver_number'])\n",
    "mergequaly"
   ]
  },
  {
   "cell_type": "code",
   "execution_count": null,
   "metadata": {},
   "outputs": [],
   "source": [
    "# In order to know when each session finished, race control dataset will be consulted.\n",
    "maximumDateQ1 = \"date_start <'2024-05-04T20:25:01+00:00'\"\n",
    "maximumDateQ2 = \"date_start <'2024-05-04T20:48:00+00:00' and date_start >'2024-05-04T20:25:01+00:00'\"\n",
    "maximumDateQ3 = \"date_start >'2024-05-04T20:48:00+00:00'\""
   ]
  },
  {
   "cell_type": "markdown",
   "metadata": {},
   "source": [
    "### Qualyfing 1"
   ]
  },
  {
   "cell_type": "code",
   "execution_count": null,
   "metadata": {},
   "outputs": [],
   "source": [
    "q1Data = obtainInfoAboutQualySession(mergequaly,maximumDateQ1).query(\"isFastestLap == True\").sort_values(by=['lap_duration'],ascending=True)\n",
    "q1Data"
   ]
  },
  {
   "cell_type": "markdown",
   "metadata": {},
   "source": [
    "##### Comparaison with driver at risk\n",
    "In this section with the fastest lap done for each driver (laptimes deleted will not be taken into account to do this analysis) it will be a comparaison in order to see where the driver eliminated lost/gain time in their fastest lap."
   ]
  },
  {
   "cell_type": "code",
   "execution_count": null,
   "metadata": {},
   "outputs": [],
   "source": [
    "#Reference\n",
    "P15 = q1Data[14:15]\n",
    "P15"
   ]
  },
  {
   "cell_type": "code",
   "execution_count": null,
   "metadata": {},
   "outputs": [],
   "source": [
    "print(\n",
    "\"Driver:\",P15.full_name.to_string(index=False),\n",
    "\"Sector 1: \",P15.duration_sector_1.to_string(index=False),\n",
    "\"Sector 2: \",P15.duration_sector_2.to_string(index=False),\n",
    "\"Sector 3: \",P15.duration_sector_3.to_string(index=False)\n",
    ")"
   ]
  },
  {
   "cell_type": "code",
   "execution_count": null,
   "metadata": {},
   "outputs": [],
   "source": [
    "newdataset2 = pd.DataFrame()\n",
    "for index,row in q1Data[15::].iterrows():\n",
    "    newdataset2 = obtain_difference_regard_reference(row,P15,newdataset2)\n",
    "\n",
    "newdataset2"
   ]
  },
  {
   "cell_type": "code",
   "execution_count": null,
   "metadata": {},
   "outputs": [],
   "source": [
    "pd.DataFrame(q1Data.groupby(\"name_acronym\")['duration_sector_1'].min().sort_values(ascending=True))"
   ]
  },
  {
   "cell_type": "code",
   "execution_count": null,
   "metadata": {},
   "outputs": [],
   "source": [
    "pd.DataFrame(q1Data.groupby(\"name_acronym\")['duration_sector_2'].min().sort_values(ascending=True))"
   ]
  },
  {
   "cell_type": "code",
   "execution_count": null,
   "metadata": {},
   "outputs": [],
   "source": [
    "pd.DataFrame(q1Data.groupby(\"name_acronym\")['duration_sector_3'].min().sort_values(ascending=True))"
   ]
  },
  {
   "cell_type": "markdown",
   "metadata": {},
   "source": [
    "#### Qualyfing 2"
   ]
  },
  {
   "cell_type": "code",
   "execution_count": null,
   "metadata": {},
   "outputs": [],
   "source": [
    "q2Data = obtainInfoAboutQualySession(mergequaly,maximumDateQ2).query(\"isFastestLap == True\").sort_values(by=['lap_duration'],ascending=True)\n",
    "q2Data"
   ]
  },
  {
   "cell_type": "markdown",
   "metadata": {},
   "source": [
    "##### Comparaison with driver at risk\n",
    "In this section with the fastest lap done for each driver (laptimes deleted will not be taken into account to do this analysis) it will be a comparaison in order to see where the driver eliminated lost/gain time in their fastest lap."
   ]
  },
  {
   "cell_type": "code",
   "execution_count": null,
   "metadata": {},
   "outputs": [],
   "source": [
    "#Reference\n",
    "P10 = q2Data[9:10]\n",
    "print(\n",
    "\"Driver:\",P10.full_name.to_string(index=False),\n",
    "\"Sector 1: \",P10.duration_sector_1.to_string(index=False),\n",
    "\"Sector 2: \",P10.duration_sector_2.to_string(index=False),\n",
    "\"Sector 3: \",P10.duration_sector_3.to_string(index=False)\n",
    ")"
   ]
  },
  {
   "cell_type": "code",
   "execution_count": null,
   "metadata": {},
   "outputs": [],
   "source": [
    "newdataset2 = pd.DataFrame()\n",
    "for index,row in q2Data[10::].iterrows():\n",
    "    newdataset2 = obtain_difference_regard_reference(row,P10,newdataset2)\n",
    "\n",
    "newdataset2"
   ]
  },
  {
   "cell_type": "markdown",
   "metadata": {},
   "source": [
    "#### Best sector per driver"
   ]
  },
  {
   "cell_type": "code",
   "execution_count": null,
   "metadata": {},
   "outputs": [],
   "source": [
    "pd.DataFrame(q2Data.groupby(\"name_acronym\")['duration_sector_1'].min().sort_values(ascending=True))"
   ]
  },
  {
   "cell_type": "code",
   "execution_count": null,
   "metadata": {},
   "outputs": [],
   "source": [
    "pd.DataFrame(q2Data.groupby(\"name_acronym\")['duration_sector_2'].min().sort_values(ascending=True))"
   ]
  },
  {
   "cell_type": "code",
   "execution_count": null,
   "metadata": {},
   "outputs": [],
   "source": [
    "pd.DataFrame(q2Data.groupby(\"name_acronym\")['duration_sector_3'].min().sort_values(ascending=True))"
   ]
  },
  {
   "cell_type": "markdown",
   "metadata": {},
   "source": [
    "#### Qualyfing 3"
   ]
  },
  {
   "cell_type": "code",
   "execution_count": null,
   "metadata": {},
   "outputs": [],
   "source": [
    "q3Data = obtainInfoAboutQualySession(mergequaly,maximumDateQ3).query(\"isFastestLap == True\").sort_values(by=['lap_duration'],ascending=True)\n",
    "q3Data"
   ]
  },
  {
   "cell_type": "markdown",
   "metadata": {},
   "source": [
    "##### Comparaison with poleman\n",
    "In this section with the fastest lap done for each driver (laptimes deleted will not be taken into account to do this analysis) it will be a comparaison in order to see where the driver eliminated lost/gain time in their fastest lap."
   ]
  },
  {
   "cell_type": "code",
   "execution_count": null,
   "metadata": {},
   "outputs": [],
   "source": [
    "#Reference\n",
    "P1 = q3Data[:1]\n",
    "print(\n",
    "\"Driver:\",P1.full_name.to_string(index=False),\n",
    "\"Sector 1: \",P1.duration_sector_1.to_string(index=False),\n",
    "\"Sector 2: \",P1.duration_sector_2.to_string(index=False),\n",
    "\"Sector 3: \",P1.duration_sector_3.to_string(index=False)\n",
    ")"
   ]
  },
  {
   "cell_type": "code",
   "execution_count": null,
   "metadata": {},
   "outputs": [],
   "source": [
    "newdataset2 = pd.DataFrame()\n",
    "for index,row in q3Data[1::].iterrows():\n",
    "    newdataset2 = obtain_difference_regard_reference(row,P1,newdataset2)\n",
    "newdataset2"
   ]
  },
  {
   "cell_type": "markdown",
   "metadata": {},
   "source": [
    "#### Best sector per driver"
   ]
  },
  {
   "cell_type": "code",
   "execution_count": null,
   "metadata": {},
   "outputs": [],
   "source": [
    "pd.DataFrame(q3Data.groupby(\"name_acronym\")['duration_sector_1'].min().sort_values(ascending=True))"
   ]
  },
  {
   "cell_type": "code",
   "execution_count": null,
   "metadata": {},
   "outputs": [],
   "source": [
    "pd.DataFrame(q3Data.groupby(\"name_acronym\")['duration_sector_2'].min().sort_values(ascending=True))"
   ]
  },
  {
   "cell_type": "code",
   "execution_count": null,
   "metadata": {},
   "outputs": [],
   "source": [
    "pd.DataFrame(q3Data.groupby(\"name_acronym\")['duration_sector_3'].min().sort_values(ascending=True))"
   ]
  },
  {
   "cell_type": "markdown",
   "metadata": {},
   "source": [
    "### Best lap of the session"
   ]
  },
  {
   "cell_type": "code",
   "execution_count": null,
   "metadata": {},
   "outputs": [],
   "source": [
    "pd.DataFrame(mergequaly.groupby(\"name_acronym\")['duration_sector_1'].min().sort_values(ascending=True))"
   ]
  },
  {
   "cell_type": "code",
   "execution_count": null,
   "metadata": {},
   "outputs": [],
   "source": [
    "pd.DataFrame(mergequaly.groupby(\"name_acronym\")['duration_sector_2'].min().sort_values(ascending=True))"
   ]
  },
  {
   "cell_type": "code",
   "execution_count": null,
   "metadata": {},
   "outputs": [],
   "source": [
    "pd.DataFrame(mergequaly.groupby(\"name_acronym\")['duration_sector_3'].min().sort_values(ascending=True))"
   ]
  }
 ],
 "metadata": {
  "kernelspec": {
   "display_name": "Python 3",
   "language": "python",
   "name": "python3"
  },
  "language_info": {
   "codemirror_mode": {
    "name": "ipython",
    "version": 3
   },
   "file_extension": ".py",
   "mimetype": "text/x-python",
   "name": "python",
   "nbconvert_exporter": "python",
   "pygments_lexer": "ipython3",
   "version": "3.8.6"
  }
 },
 "nbformat": 4,
 "nbformat_minor": 2
}
